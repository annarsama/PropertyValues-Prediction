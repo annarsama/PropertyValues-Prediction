{
 "cells": [
  {
   "cell_type": "markdown",
   "metadata": {},
   "source": [
    "# PRÉPARATION DES DONNÉES"
   ]
  },
  {
   "cell_type": "markdown",
   "metadata": {},
   "source": [
    "# Inspection des données"
   ]
  },
  {
   "cell_type": "code",
   "execution_count": 1,
   "metadata": {},
   "outputs": [],
   "source": [
    "# Importation des librairies nécessaires :\n",
    "import pandas as pd\n",
    "import numpy as np\n",
    "import seaborn as sns\n",
    "import matplotlib.pyplot as plt\n",
    "from sklearn.model_selection import train_test_split, GridSearchCV, ShuffleSplit\n",
    "from sklearn.tree import DecisionTreeClassifier, plot_tree\n",
    "from sklearn.metrics import mean_squared_error, accuracy_score, confusion_matrix, f1_score, recall_score, precision_score, make_scorer, roc_curve, auc\n",
    "from scipy import interp\n",
    "from sklearn.neighbors import KNeighborsClassifier\n",
    "from sklearn.linear_model import LogisticRegression, LinearRegression, Ridge, Lasso, ElasticNet\n",
    "from sklearn.ensemble import RandomForestClassifier, BaggingClassifier, GradientBoostingClassifier\n",
    "from sklearn.preprocessing import StandardScaler\n",
    "from sklearn.datasets import make_classification\n",
    "from statistics import mean"
   ]
  },
  {
   "cell_type": "code",
   "execution_count": 5,
   "metadata": {},
   "outputs": [],
   "source": [
    "import warnings\n",
    "warnings.filterwarnings('ignore')"
   ]
  },
  {
   "cell_type": "markdown",
   "metadata": {},
   "source": [
    "Avant de pouvoir lancer nos modèles de prédiction de Valeur foncière, nous procédons avant tout à l'inspection des données et récupérons les fichiers."
   ]
  },
  {
   "cell_type": "code",
   "execution_count": 6,
   "metadata": {},
   "outputs": [],
   "source": [
    "# Chargement des datasets :\n",
    "df1 = pd.read_csv(\"./assets/data/valeursfoncieres-2018.txt\",sep=\"|\")\n",
    "df2 = pd.read_csv(\"./assets/data/valeursfoncieres-2019.txt\",sep=\"|\")\n",
    "df3 = pd.read_csv(\"./assets/data/valeursfoncieres-2020.txt\",sep=\"|\")\n",
    "df4 = pd.read_csv(\"./assets/data/valeursfoncieres-2021.txt\",sep=\"|\")\n",
    "\n",
    "# Agrégation des datasets :\n",
    "df_complet = pd.concat([df1,df2,df3,df4], axis=0, ignore_index=True)"
   ]
  },
  {
   "cell_type": "code",
   "execution_count": 7,
   "metadata": {},
   "outputs": [
    {
     "data": {
      "text/html": [
       "<div>\n",
       "<style scoped>\n",
       "    .dataframe tbody tr th:only-of-type {\n",
       "        vertical-align: middle;\n",
       "    }\n",
       "\n",
       "    .dataframe tbody tr th {\n",
       "        vertical-align: top;\n",
       "    }\n",
       "\n",
       "    .dataframe thead th {\n",
       "        text-align: right;\n",
       "    }\n",
       "</style>\n",
       "<table border=\"1\" class=\"dataframe\">\n",
       "  <thead>\n",
       "    <tr style=\"text-align: right;\">\n",
       "      <th></th>\n",
       "      <th>Identifiant de document</th>\n",
       "      <th>Reference document</th>\n",
       "      <th>1 Articles CGI</th>\n",
       "      <th>2 Articles CGI</th>\n",
       "      <th>3 Articles CGI</th>\n",
       "      <th>4 Articles CGI</th>\n",
       "      <th>5 Articles CGI</th>\n",
       "      <th>No disposition</th>\n",
       "      <th>Date mutation</th>\n",
       "      <th>Nature mutation</th>\n",
       "      <th>...</th>\n",
       "      <th>Surface Carrez du 5eme lot</th>\n",
       "      <th>Nombre de lots</th>\n",
       "      <th>Code type local</th>\n",
       "      <th>Type local</th>\n",
       "      <th>Identifiant local</th>\n",
       "      <th>Surface reelle bati</th>\n",
       "      <th>Nombre pieces principales</th>\n",
       "      <th>Nature culture</th>\n",
       "      <th>Nature culture speciale</th>\n",
       "      <th>Surface terrain</th>\n",
       "    </tr>\n",
       "  </thead>\n",
       "  <tbody>\n",
       "    <tr>\n",
       "      <th>0</th>\n",
       "      <td>NaN</td>\n",
       "      <td>NaN</td>\n",
       "      <td>NaN</td>\n",
       "      <td>NaN</td>\n",
       "      <td>NaN</td>\n",
       "      <td>NaN</td>\n",
       "      <td>NaN</td>\n",
       "      <td>1</td>\n",
       "      <td>03/01/2018</td>\n",
       "      <td>Vente</td>\n",
       "      <td>...</td>\n",
       "      <td>NaN</td>\n",
       "      <td>2</td>\n",
       "      <td>2.0</td>\n",
       "      <td>Appartement</td>\n",
       "      <td>NaN</td>\n",
       "      <td>73.0</td>\n",
       "      <td>4.0</td>\n",
       "      <td>NaN</td>\n",
       "      <td>NaN</td>\n",
       "      <td>NaN</td>\n",
       "    </tr>\n",
       "    <tr>\n",
       "      <th>1</th>\n",
       "      <td>NaN</td>\n",
       "      <td>NaN</td>\n",
       "      <td>NaN</td>\n",
       "      <td>NaN</td>\n",
       "      <td>NaN</td>\n",
       "      <td>NaN</td>\n",
       "      <td>NaN</td>\n",
       "      <td>1</td>\n",
       "      <td>03/01/2018</td>\n",
       "      <td>Vente</td>\n",
       "      <td>...</td>\n",
       "      <td>NaN</td>\n",
       "      <td>1</td>\n",
       "      <td>3.0</td>\n",
       "      <td>Dépendance</td>\n",
       "      <td>NaN</td>\n",
       "      <td>0.0</td>\n",
       "      <td>0.0</td>\n",
       "      <td>NaN</td>\n",
       "      <td>NaN</td>\n",
       "      <td>NaN</td>\n",
       "    </tr>\n",
       "    <tr>\n",
       "      <th>2</th>\n",
       "      <td>NaN</td>\n",
       "      <td>NaN</td>\n",
       "      <td>NaN</td>\n",
       "      <td>NaN</td>\n",
       "      <td>NaN</td>\n",
       "      <td>NaN</td>\n",
       "      <td>NaN</td>\n",
       "      <td>1</td>\n",
       "      <td>04/01/2018</td>\n",
       "      <td>Vente</td>\n",
       "      <td>...</td>\n",
       "      <td>NaN</td>\n",
       "      <td>0</td>\n",
       "      <td>1.0</td>\n",
       "      <td>Maison</td>\n",
       "      <td>NaN</td>\n",
       "      <td>163.0</td>\n",
       "      <td>4.0</td>\n",
       "      <td>S</td>\n",
       "      <td>NaN</td>\n",
       "      <td>949.0</td>\n",
       "    </tr>\n",
       "    <tr>\n",
       "      <th>3</th>\n",
       "      <td>NaN</td>\n",
       "      <td>NaN</td>\n",
       "      <td>NaN</td>\n",
       "      <td>NaN</td>\n",
       "      <td>NaN</td>\n",
       "      <td>NaN</td>\n",
       "      <td>NaN</td>\n",
       "      <td>1</td>\n",
       "      <td>04/01/2018</td>\n",
       "      <td>Vente</td>\n",
       "      <td>...</td>\n",
       "      <td>NaN</td>\n",
       "      <td>0</td>\n",
       "      <td>1.0</td>\n",
       "      <td>Maison</td>\n",
       "      <td>NaN</td>\n",
       "      <td>163.0</td>\n",
       "      <td>4.0</td>\n",
       "      <td>AG</td>\n",
       "      <td>JARD</td>\n",
       "      <td>420.0</td>\n",
       "    </tr>\n",
       "    <tr>\n",
       "      <th>4</th>\n",
       "      <td>NaN</td>\n",
       "      <td>NaN</td>\n",
       "      <td>NaN</td>\n",
       "      <td>NaN</td>\n",
       "      <td>NaN</td>\n",
       "      <td>NaN</td>\n",
       "      <td>NaN</td>\n",
       "      <td>1</td>\n",
       "      <td>04/01/2018</td>\n",
       "      <td>Vente</td>\n",
       "      <td>...</td>\n",
       "      <td>NaN</td>\n",
       "      <td>0</td>\n",
       "      <td>1.0</td>\n",
       "      <td>Maison</td>\n",
       "      <td>NaN</td>\n",
       "      <td>51.0</td>\n",
       "      <td>2.0</td>\n",
       "      <td>AG</td>\n",
       "      <td>JARD</td>\n",
       "      <td>420.0</td>\n",
       "    </tr>\n",
       "  </tbody>\n",
       "</table>\n",
       "<p>5 rows × 43 columns</p>\n",
       "</div>"
      ],
      "text/plain": [
       "   Identifiant de document  Reference document  1 Articles CGI  \\\n",
       "0                      NaN                 NaN             NaN   \n",
       "1                      NaN                 NaN             NaN   \n",
       "2                      NaN                 NaN             NaN   \n",
       "3                      NaN                 NaN             NaN   \n",
       "4                      NaN                 NaN             NaN   \n",
       "\n",
       "   2 Articles CGI  3 Articles CGI  4 Articles CGI  5 Articles CGI  \\\n",
       "0             NaN             NaN             NaN             NaN   \n",
       "1             NaN             NaN             NaN             NaN   \n",
       "2             NaN             NaN             NaN             NaN   \n",
       "3             NaN             NaN             NaN             NaN   \n",
       "4             NaN             NaN             NaN             NaN   \n",
       "\n",
       "   No disposition Date mutation Nature mutation  ...  \\\n",
       "0               1    03/01/2018           Vente  ...   \n",
       "1               1    03/01/2018           Vente  ...   \n",
       "2               1    04/01/2018           Vente  ...   \n",
       "3               1    04/01/2018           Vente  ...   \n",
       "4               1    04/01/2018           Vente  ...   \n",
       "\n",
       "  Surface Carrez du 5eme lot  Nombre de lots Code type local   Type local  \\\n",
       "0                        NaN               2             2.0  Appartement   \n",
       "1                        NaN               1             3.0   Dépendance   \n",
       "2                        NaN               0             1.0       Maison   \n",
       "3                        NaN               0             1.0       Maison   \n",
       "4                        NaN               0             1.0       Maison   \n",
       "\n",
       "  Identifiant local Surface reelle bati  Nombre pieces principales  \\\n",
       "0               NaN                73.0                        4.0   \n",
       "1               NaN                 0.0                        0.0   \n",
       "2               NaN               163.0                        4.0   \n",
       "3               NaN               163.0                        4.0   \n",
       "4               NaN                51.0                        2.0   \n",
       "\n",
       "  Nature culture Nature culture speciale  Surface terrain  \n",
       "0            NaN                     NaN              NaN  \n",
       "1            NaN                     NaN              NaN  \n",
       "2              S                     NaN            949.0  \n",
       "3             AG                    JARD            420.0  \n",
       "4             AG                    JARD            420.0  \n",
       "\n",
       "[5 rows x 43 columns]"
      ]
     },
     "execution_count": 7,
     "metadata": {},
     "output_type": "execute_result"
    }
   ],
   "source": [
    "df_complet.head()"
   ]
  },
  {
   "cell_type": "markdown",
   "metadata": {},
   "source": [
    "On remarque qu'il y a beaucoup de valeurs manquantes. Il sera donc nécessaire de nettoyer les données."
   ]
  },
  {
   "cell_type": "code",
   "execution_count": 8,
   "metadata": {},
   "outputs": [
    {
     "name": "stdout",
     "output_type": "stream",
     "text": [
      "Voici les dimensions du dataset complet : (15125102, 43)\n"
     ]
    }
   ],
   "source": [
    "# Inspection du dataset complet :\n",
    "# Dimensions du dataset :\n",
    "print('Voici les dimensions du dataset complet :', df_complet.shape) # 15,125,102 observations, 43 variables"
   ]
  },
  {
   "cell_type": "markdown",
   "metadata": {},
   "source": [
    "Le dataset complet contient 15 125 102 observations, et 43 variables."
   ]
  },
  {
   "cell_type": "markdown",
   "metadata": {},
   "source": [
    "# Nettoyage des données"
   ]
  },
  {
   "cell_type": "markdown",
   "metadata": {},
   "source": [
    "Après avoir inspecté les données, nous procédons au nettoyage de celles-ci."
   ]
  },
  {
   "cell_type": "code",
   "execution_count": 9,
   "metadata": {},
   "outputs": [
    {
     "name": "stdout",
     "output_type": "stream",
     "text": [
      "Après élimination des duplicats, le nombre d'observations se réduit à 3 738 104 (3738104, 43)\n"
     ]
    }
   ],
   "source": [
    "# Drop des duplicats :\n",
    "df_complet.shape # 15,125,102 observations, 43 variables\n",
    "df = df_complet.drop_duplicates([\"Date mutation\",\"Code departement\",\"Code commune\",\"Code voie\"],keep=False)\n",
    "print(\"Après élimination des duplicats, le nombre d'observations se réduit à 3 738 104\", df.shape) # 3,738,104 observations, 43 variables\n",
    "\n",
    "# Le fait d'éliminer les duplicats pour les variables \"Date mutation\", \"Code département\", \"Code commune\"\n",
    "# et \"Code voie\" réduit considérablement les données exploitables (environ 1/5 des données exploitables)."
   ]
  },
  {
   "cell_type": "markdown",
   "metadata": {},
   "source": [
    "Nous inspectons les valeurs manquantes."
   ]
  },
  {
   "cell_type": "code",
   "execution_count": 10,
   "metadata": {},
   "outputs": [],
   "source": [
    "# Détection des valeurs manquantes pour chaque variable en les sommant :\n",
    "missing_data = df.isna().sum()\n",
    "#missing_data"
   ]
  },
  {
   "cell_type": "markdown",
   "metadata": {},
   "source": [
    "On remarque que beaucoup de variables ont un taux de valeurs manquantes supérieur ou égal à 80%."
   ]
  },
  {
   "cell_type": "code",
   "execution_count": 11,
   "metadata": {},
   "outputs": [
    {
     "data": {
      "text/plain": [
       "Identifiant de document       100.000000\n",
       "Reference document            100.000000\n",
       "1 Articles CGI                100.000000\n",
       "2 Articles CGI                100.000000\n",
       "3 Articles CGI                100.000000\n",
       "4 Articles CGI                100.000000\n",
       "5 Articles CGI                100.000000\n",
       "No disposition                  0.000000\n",
       "Date mutation                   0.000000\n",
       "Nature mutation                 0.000000\n",
       "Valeur fonciere                 0.504614\n",
       "No voie                        33.782928\n",
       "B/T/Q                          95.666546\n",
       "Type de voie                   34.565839\n",
       "Code voie                       0.248013\n",
       "Voie                            0.250127\n",
       "Code postal                     0.252374\n",
       "Commune                         0.000000\n",
       "Code departement                0.000000\n",
       "Code commune                    0.000000\n",
       "Prefixe de section             95.573772\n",
       "Section                         0.003478\n",
       "No plan                         0.000000\n",
       "No Volume                      99.765041\n",
       "1er lot                        72.793293\n",
       "Surface Carrez du 1er lot      87.916495\n",
       "2eme lot                       90.343607\n",
       "Surface Carrez du 2eme lot     96.909449\n",
       "3eme lot                       98.156499\n",
       "Surface Carrez du 3eme lot     99.643322\n",
       "4eme lot                       99.389477\n",
       "Surface Carrez du 4eme lot     99.911720\n",
       "5eme lot                       99.720607\n",
       "Surface Carrez du 5eme lot     99.966694\n",
       "Nombre de lots                  0.000000\n",
       "Code type local                37.329405\n",
       "Type local                     37.329405\n",
       "Identifiant local             100.000000\n",
       "Surface reelle bati            37.402517\n",
       "Nombre pieces principales      37.402517\n",
       "Nature culture                 27.760945\n",
       "Nature culture speciale        97.085662\n",
       "Surface terrain                27.760945\n",
       "dtype: float64"
      ]
     },
     "execution_count": 11,
     "metadata": {},
     "output_type": "execute_result"
    }
   ],
   "source": [
    "# Pourcentage de valeurs manquantes pour chaque variable :\n",
    "percentage_md = (missing_data / len(df)) * 100\n",
    "percentage_md"
   ]
  },
  {
   "cell_type": "markdown",
   "metadata": {},
   "source": [
    "Nous décidons donc d'éliminer les variables pour lesquelles le taux de valeurs manquantes excède ou est égal à 80%."
   ]
  },
  {
   "cell_type": "code",
   "execution_count": 13,
   "metadata": {},
   "outputs": [],
   "source": [
    "# Drop des variables dont les valeurs manquantes excèdent les 80% :\n",
    "for colonne in df :\n",
    "    if (percentage_md[colonne] > 80):\n",
    "        df.drop(colonne, axis=1, inplace=True)"
   ]
  },
  {
   "cell_type": "markdown",
   "metadata": {},
   "source": [
    "Après filtrations des valeurs manquantes, les données sont réduites."
   ]
  },
  {
   "cell_type": "code",
   "execution_count": 14,
   "metadata": {},
   "outputs": [
    {
     "name": "stdout",
     "output_type": "stream",
     "text": [
      "Après filtrage global des valeurs manquantes, il reste 22 variables : (3738104, 22)\n",
      "Après avoir filtré les valeurs manquantes de Type local, les données sont réduites à 2 342 692 : (2342692, 22)\n"
     ]
    }
   ],
   "source": [
    "# Vérification des dimensions du dataset après filtrage des NaN :\n",
    "print('Après filtrage global des valeurs manquantes, il reste 22 variables :', df.shape) # 3,738,104 observations, 22 variables restantes\n",
    "\n",
    "# Dataset reformaté sans les NaN de 'Type local' :\n",
    "df_Type = df.dropna(subset=['Type local'])\n",
    "print('Après avoir filtré les valeurs manquantes de Type local, les données sont réduites à 2 342 692 :', df_Type.shape) # 2,342,692 observations, 22 variables"
   ]
  },
  {
   "cell_type": "markdown",
   "metadata": {},
   "source": [
    "Nous reformatons Valeur foncière en variable quantitative en remplaçant les \",\" par des \".\"."
   ]
  },
  {
   "cell_type": "code",
   "execution_count": 15,
   "metadata": {},
   "outputs": [
    {
     "name": "stdout",
     "output_type": "stream",
     "text": [
      "object\n",
      "float64\n"
     ]
    }
   ],
   "source": [
    "# Reformatage de Valeur foncière en variable quantitative :\n",
    "print(df_Type['Valeur fonciere'].dtypes) # object\n",
    "df_Type['Valeur fonciere'] = df_Type['Valeur fonciere'].astype(str).str.replace(\",\", \".\").astype(float)\n",
    "#print(df_Type['Valeur fonciere'])\n",
    "\n",
    "# Vérification du type de Valeur foncière :\n",
    "print(df_Type['Valeur fonciere'].dtypes) # float64"
   ]
  },
  {
   "cell_type": "markdown",
   "metadata": {},
   "source": [
    "Cela nous permet ensuite d'éliminer les valeurs aberrantes de Valeur foncière (i.e., inférieure à 1 ou NaN)."
   ]
  },
  {
   "cell_type": "code",
   "execution_count": 16,
   "metadata": {},
   "outputs": [
    {
     "name": "stdout",
     "output_type": "stream",
     "text": [
      "Avant filtrage des valeurs aberrantes de Valeur foncière : (2342692, 22)\n",
      "Après filtrage des valeurs aberrantes de Valeur foncière : (2337078, 22)\n"
     ]
    }
   ],
   "source": [
    "# Drop de Valeur foncière =< 1 et Valeur foncière != NaN :\n",
    "print('Avant filtrage des valeurs aberrantes de Valeur foncière :', df_Type.shape) # 2,342,692 observations, 22 variables\n",
    "df_Type = df_Type[(df_Type[\"Valeur fonciere\"] > 1) & (df_Type[\"Valeur fonciere\"].notna())]\n",
    "print('Après filtrage des valeurs aberrantes de Valeur foncière :', df_Type.shape) # 2,337,078 observations, 22 variables"
   ]
  },
  {
   "cell_type": "markdown",
   "metadata": {},
   "source": [
    "Nous éliminons ensuite les outliers restant de Valeur foncière.\n",
    "\n",
    "Nous définissions d'abord les premier et troisième quartile. Nous calculons l'écart interquartile afin d'obtenir les bornes inférieure et supérieure d'exclusion des outliers. Et nous les éliminons selons ces critères."
   ]
  },
  {
   "cell_type": "code",
   "execution_count": 17,
   "metadata": {},
   "outputs": [
    {
     "name": "stdout",
     "output_type": "stream",
     "text": [
      "Premier quartile : 85000.0\n",
      "Troisième quartile : 250000.0\n",
      "Écart interquartile : 165000.0\n",
      "Borne inférieure d'exclusion : -162500.0\n",
      "Borne supérieure d'exclusion : 497500.0\n",
      "Dataset avant exclusion des outliers : (2337078, 22)\n",
      "Dataset après exclusion des outliers : (2204117, 22)\n"
     ]
    }
   ],
   "source": [
    "# Drop des outliers :\n",
    "\n",
    "# Définit les premier et troisième quartiles :\n",
    "Q1 = df_Type['Valeur fonciere'].quantile(0.25)\n",
    "Q3 = df_Type['Valeur fonciere'].quantile(0.75)\n",
    "print('Premier quartile :', Q1) # 85,000\n",
    "print('Troisième quartile :', Q3) # 250,000\n",
    "\n",
    "# Écart interquartile :\n",
    "IQR = Q3 - Q1\n",
    "print('Écart interquartile :', IQR) # 165,000\n",
    "\n",
    "# Définit les bornes d'exclusion des outliers :\n",
    "outliers_bas = Q1 - (1.5 * IQR)\n",
    "outliers_haut = Q3 + (1.5 * IQR)\n",
    "print(\"Borne inférieure d'exclusion :\", outliers_bas) # 162,500\n",
    "print(\"Borne supérieure d'exclusion :\", outliers_haut) # 497,500\n",
    "\n",
    "# Nouveau dataset (sans outliers) :\n",
    "print('Dataset avant exclusion des outliers :', df_Type.shape) # 2,337,078 observations, 22 variables\n",
    "df_clean = df_Type[(df_Type['Valeur fonciere'] < Q3 + (1.5 * IQR)) & (df_Type['Valeur fonciere'] > Q1 - (1.5 * IQR))]\n",
    "print('Dataset après exclusion des outliers :', df_clean.shape) # 2,204,117 observations, 22 variables"
   ]
  },
  {
   "cell_type": "markdown",
   "metadata": {},
   "source": [
    "Nous décidons de nous concentrer essentiellement sur les ventes (cf. variable \"Nature mutation\"), ce qui réduit encore le nombre de données exploitables."
   ]
  },
  {
   "cell_type": "code",
   "execution_count": 18,
   "metadata": {},
   "outputs": [
    {
     "name": "stdout",
     "output_type": "stream",
     "text": [
      "Dataset après filtrage des ventes : (2166999, 22)\n"
     ]
    }
   ],
   "source": [
    "# Sélection des ventes uniquement (cf. Nature mutation) :\n",
    "df_clean = df_clean[df_clean[\"Nature mutation\"]==\"Vente\"]\n",
    "print('Dataset après filtrage des ventes :', df_clean.shape) # 2,166,999 observations, 22 variables"
   ]
  },
  {
   "cell_type": "markdown",
   "metadata": {},
   "source": [
    "La variable \"Date mutation\" n'étant pas intéressante pour nos modèles de prédiction, nous décidons de l'éliminer."
   ]
  },
  {
   "cell_type": "code",
   "execution_count": 19,
   "metadata": {},
   "outputs": [
    {
     "name": "stdout",
     "output_type": "stream",
     "text": [
      "Nombre de variables après exclusion de Date mutation : (2166999, 21)\n"
     ]
    }
   ],
   "source": [
    "# Dataset reformaté sans Date mutation :\n",
    "df_clean = df_clean.drop(columns=\"Date mutation\")\n",
    "print('Nombre de variables après exclusion de Date mutation :', df_clean.shape) # 2,166,999 observations, 21 variables"
   ]
  },
  {
   "cell_type": "markdown",
   "metadata": {},
   "source": [
    "Nous devons ensuite reformater les variables \"Code departement\" et \"Code voie\" en variables catégorielles."
   ]
  },
  {
   "cell_type": "code",
   "execution_count": 20,
   "metadata": {},
   "outputs": [
    {
     "data": {
      "text/plain": [
       "Code departement    object\n",
       "Code voie           object\n",
       "dtype: object"
      ]
     },
     "execution_count": 20,
     "metadata": {},
     "output_type": "execute_result"
    }
   ],
   "source": [
    "# Reformatage de Code département et Code voie en chaîne de caractères :\n",
    "df_clean[\"Code departement\"] = df_clean[\"Code departement\"].astype(str)\n",
    "df_clean[\"Code voie\"] = df_clean[\"Code voie\"].astype(str)\n",
    "\n",
    "# Vérification du reformatage :\n",
    "df_clean[['Code departement', 'Code voie']].dtypes # object"
   ]
  },
  {
   "cell_type": "markdown",
   "metadata": {},
   "source": [
    "Nous remplaçons les valeurs manquantes des variables quantitatives par leurs moyennes. Et nous vérifions qu'il ne reste plus de valeurs manquantes dans les variables quantitatives."
   ]
  },
  {
   "cell_type": "code",
   "execution_count": 21,
   "metadata": {},
   "outputs": [
    {
     "name": "stdout",
     "output_type": "stream",
     "text": [
      "Nombre de valeurs manquantes : No disposition               0\n",
      "Valeur fonciere              0\n",
      "No voie                      0\n",
      "Code postal                  0\n",
      "Code commune                 0\n",
      "No plan                      0\n",
      "Nombre de lots               0\n",
      "Code type local              0\n",
      "Surface reelle bati          0\n",
      "Nombre pieces principales    0\n",
      "Surface terrain              0\n",
      "dtype: int64\n"
     ]
    }
   ],
   "source": [
    "# Remplacement des NaN des variables quantitatives par leur moyenne :\n",
    "for col in df_clean.select_dtypes(exclude=\"object\"):\n",
    "    df_clean[col] = df_clean[col].fillna(df_clean[col].mean())\n",
    "\n",
    "# Vérification du remplacement des NaN :\n",
    "print('Nombre de valeurs manquantes :', df_clean.select_dtypes(exclude='object').isna().sum()) # 0 NaN"
   ]
  },
  {
   "cell_type": "markdown",
   "metadata": {},
   "source": [
    "Nous décidons de ne garder que les variables où il n'y a plus de valeurs manquantes."
   ]
  },
  {
   "cell_type": "code",
   "execution_count": 22,
   "metadata": {},
   "outputs": [
    {
     "name": "stdout",
     "output_type": "stream",
     "text": [
      "Sur 21 variables, il n'en reste donc plus que 16 : (2166999, 16)\n",
      "Voici la liste des variables restantes : Index(['No disposition', 'Nature mutation', 'Valeur fonciere', 'No voie',\n",
      "       'Code voie', 'Code postal', 'Commune', 'Code departement',\n",
      "       'Code commune', 'No plan', 'Nombre de lots', 'Code type local',\n",
      "       'Type local', 'Surface reelle bati', 'Nombre pieces principales',\n",
      "       'Surface terrain'],\n",
      "      dtype='object')\n"
     ]
    }
   ],
   "source": [
    "# Drop des NaN :\n",
    "df_test = df_clean.dropna(axis=1)\n",
    "print(\"Sur 21 variables, il n'en reste donc plus que 16 :\", df_test.shape) # 2,166,999 observations, 16 variables\n",
    "print('Voici la liste des variables restantes :', df_test.columns) # 1er lot et Nature culture droped"
   ]
  },
  {
   "cell_type": "code",
   "execution_count": null,
   "metadata": {},
   "outputs": [],
   "source": [
    "# Remplacement des NaN des variables catégorielles par leur mode :\n",
    "\n",
    "# Récupération des noms des variables catégorielles :\n",
    "#print(df_clean.select_dtypes('object').columns)\n",
    "# Instanciation de ces variables dans une variable :\n",
    "#var_qual = ['Date mutation', 'Nature mutation', 'Type de voie', 'Code voie', 'Voie', 'Commune', 'Code departement',\n",
    "        #'Section', '1er lot', 'Type local', 'Nature culture']\n",
    "# Création d'un df pour les variables catégorielles :\n",
    "#df_qual = df_clean[var_qual]\n",
    "#print(df_qual)\n",
    "\n",
    "# Remplacement des NaN des variables catégorielles par leur mode :\n",
    "#df_NA1 = df_qual['Type de voie'].fillna(df_qual['Type de voie'].mode()) # Ne fonctionne pas : pas de remplacement des NaN\n",
    "\n",
    "# Vérification du nombre de NaN des variables catégorielles :\n",
    "#print(df_NA1.isnull().sum())"
   ]
  },
  {
   "cell_type": "markdown",
   "metadata": {},
   "source": [
    "Nous recodons les variables catégorielles afin de pouvoir mener des analyses dessus."
   ]
  },
  {
   "cell_type": "code",
   "execution_count": 24,
   "metadata": {},
   "outputs": [],
   "source": [
    "# Recodage des variables catégorielles :\n",
    "from sklearn.preprocessing import LabelEncoder\n",
    "\n",
    "encoder = LabelEncoder()\n",
    "\n",
    "for col in df_test.select_dtypes('object'):\n",
    "    df_test[col] = encoder.fit_transform(df_test[col])"
   ]
  },
  {
   "cell_type": "markdown",
   "metadata": {},
   "source": [
    "# Sélection des variables intéressantes"
   ]
  },
  {
   "cell_type": "markdown",
   "metadata": {},
   "source": [
    "Après avoir inspecté et nettoyé les données, nous devons à présent sélectionner les variables que nous utiliserons pour nos modèles de prédiction."
   ]
  },
  {
   "cell_type": "markdown",
   "metadata": {},
   "source": [
    "Nous standardisons toutes les variables quantitatives (hormis Valeur foncière et Code commune) afin de les ramener à la même échelle."
   ]
  },
  {
   "cell_type": "code",
   "execution_count": 25,
   "metadata": {},
   "outputs": [
    {
     "name": "stdout",
     "output_type": "stream",
     "text": [
      "[[-1.07332415e-01  0.00000000e+00 -3.19938578e-01 ... -1.67267150e-01\n",
      "  -1.08153345e+00 -1.14396476e-16]\n",
      " [-1.07332415e-01  0.00000000e+00 -3.23504615e-01 ... -6.35267702e-02\n",
      "  -2.44257818e-02 -1.14396476e-16]\n",
      " [-1.07332415e-01  0.00000000e+00 -3.20957446e-01 ... -9.40135493e-03\n",
      "  -2.44257818e-02 -4.95831366e-01]\n",
      " ...\n",
      " [-1.07332415e-01  0.00000000e+00 -3.21976313e-01 ... -2.03350760e-01\n",
      "  -5.52979618e-01 -1.14396476e-16]\n",
      " [-1.07332415e-01  0.00000000e+00 -3.22995181e-01 ... -3.70237457e-01\n",
      "  -1.61008729e+00 -1.14396476e-16]\n",
      " [-1.07332415e-01  0.00000000e+00 -3.10768769e-01 ... -3.70237457e-01\n",
      "  -1.61008729e+00 -1.14396476e-16]]\n"
     ]
    }
   ],
   "source": [
    "# Standardise les variables :\n",
    "from sklearn.preprocessing import StandardScaler\n",
    "df_scaler = df_test.drop(columns=[\"Valeur fonciere\", \"Code commune\"])\n",
    "scaler = StandardScaler()\n",
    "df_scaler = scaler.fit_transform(df_scaler)\n",
    "print(df_scaler)"
   ]
  },
  {
   "cell_type": "markdown",
   "metadata": {},
   "source": [
    "Nous lançons une régression Lasso afin de déterminer quelles variables pèsent le plus sur Valeur foncière. Ici, nous affichons ces variables lorsque leurs coefficients dépassent un certain seuil."
   ]
  },
  {
   "cell_type": "code",
   "execution_count": 26,
   "metadata": {},
   "outputs": [
    {
     "name": "stdout",
     "output_type": "stream",
     "text": [
      "Selected Features:\n",
      "Feature 3: Code voie\n",
      "Feature 4: Code postal\n",
      "Feature 5: Commune\n",
      "Feature 6: Code departement\n",
      "Feature 7: No plan\n",
      "Feature 8: Nombre de lots\n",
      "Feature 9: Code type local\n",
      "Feature 10: Type local\n",
      "Feature 11: Surface reelle bati\n",
      "Feature 12: Nombre pieces principales\n",
      "Feature 13: Surface terrain\n"
     ]
    }
   ],
   "source": [
    "# LASSO pour sélectionner les variables :\n",
    "from sklearn.linear_model import Lasso\n",
    "import numpy as np\n",
    "lasso = Lasso(alpha=1.0)\n",
    "lasso.fit(df_scaler, df_test[\"Valeur fonciere\"])\n",
    "\n",
    "selected_features = np.where(lasso.coef_ >1 )[0]\n",
    "\n",
    "Xframe = df_test.drop(columns=[\"Valeur fonciere\",\"Code commune\"])\n",
    "\n",
    "print(\"Selected Features:\")\n",
    "for feature_index in selected_features:\n",
    "    print(f\"Feature {feature_index}: {Xframe.columns[feature_index]}\")"
   ]
  },
  {
   "cell_type": "markdown",
   "metadata": {},
   "source": [
    "Nous affichons ensuite les 10 variables les plus importantes parmi celles sélectionnées précédemment."
   ]
  },
  {
   "cell_type": "code",
   "execution_count": 27,
   "metadata": {},
   "outputs": [
    {
     "name": "stdout",
     "output_type": "stream",
     "text": [
      "Commune\n",
      "No voie\n",
      "Code departement\n",
      "Surface reelle bati\n",
      "Code voie\n",
      "Nombre de lots\n",
      "Code postal\n",
      "Code type local\n",
      "Type local\n",
      "Nombre pieces principales\n"
     ]
    }
   ],
   "source": [
    "# Sélection des 10 variables les plus importantes selon LASSO :\n",
    "top_10_feature_indices = np.argsort(np.abs(lasso.coef_))[-10:]\n",
    "top_10_feature_indices = [Xframe.columns[i] for i in top_10_feature_indices]\n",
    "for feature in top_10_feature_indices:\n",
    "    print(feature)"
   ]
  },
  {
   "cell_type": "code",
   "execution_count": 28,
   "metadata": {},
   "outputs": [
    {
     "name": "stdout",
     "output_type": "stream",
     "text": [
      "(2166999, 16)\n",
      "(2138139, 16)\n"
     ]
    }
   ],
   "source": [
    "# Drop des outliers :\n",
    "print(df_test.shape)\n",
    "top_10_feature_indices.append(\"Valeur fonciere\")\n",
    "for col in top_10_feature_indices:\n",
    "    Q1 = df_test[col].quantile(0.25)\n",
    "    Q3 = df_test[col].quantile(0.75)\n",
    "    IQR = Q3 - Q1\n",
    "    lower_bound = Q1 - 1.5 * IQR\n",
    "    upper_bound = Q3 + 1.5 * IQR\n",
    "    df_boop = df_test[(df_test[col] >= lower_bound) & (df_test[col] <= upper_bound)]\n",
    "print(df_boop.shape)"
   ]
  },
  {
   "cell_type": "markdown",
   "metadata": {},
   "source": [
    "Maintenant que les données ont été inspectées et nettoyées, et que les variables les plus importantes ont été mises en exergue, nous pouvons passer aux modèles de prédiction."
   ]
  },
  {
   "cell_type": "markdown",
   "metadata": {},
   "source": [
    "# DATAFRAME SANS TRANSFORMATIONS"
   ]
  },
  {
   "cell_type": "markdown",
   "metadata": {},
   "source": [
    "Nous récupérons un dataset sans transformation des données afin de pouvoir lancer nos modèles de prédiction (cf. le split train-test ne peut être lancé sur des données préalablement transformées)."
   ]
  },
  {
   "cell_type": "code",
   "execution_count": 29,
   "metadata": {},
   "outputs": [
    {
     "name": "stdout",
     "output_type": "stream",
     "text": [
      "df_Type : (2337078, 22)\n",
      "df_reg sans Nature mutation : (2298282, 22)\n",
      "df_reg avec 5 variables : (2298282, 5)\n",
      "df_reg sans outliers : (2138093, 5)\n",
      "Type de Nombre de lots : float64\n"
     ]
    }
   ],
   "source": [
    "# Reprise du dataframe avant transformations des données :\n",
    "print('df_Type :', df_Type.shape) # 2,337,078 observations, 22 variables\n",
    "\n",
    "# Sélection des ventes uniquement (cf. Nature mutation) :\n",
    "df_reg = df_Type[df_Type[\"Nature mutation\"]==\"Vente\"]\n",
    "print('df_reg sans Nature mutation :', df_reg.shape) # 2,298,282 observations, 22 variables\n",
    "\n",
    "# Choix des variables sélectionnées parmi les 10 plus importantes selon le LASSO :\n",
    "col_Type = ['Surface reelle bati', 'Nombre de lots', 'Nombre pieces principales', 'Type local', 'Valeur fonciere']\n",
    "df_reg = df_reg[col_Type]\n",
    "print('df_reg avec 5 variables :', df_reg.shape) # 2,298,282 observations, 4 variables\n",
    "\n",
    "# Drop des outliers :\n",
    "# (obligé de redrop car df_Type pas encore formaté)\n",
    "df_reg = df_reg[(df_reg['Valeur fonciere'] < Q3 + (1.5 * IQR))\n",
    "                   & (df_reg['Valeur fonciere'] > Q1 - (1.5 * IQR))]\n",
    "print('df_reg sans outliers :', df_reg.shape) # 2,166,999 observations, 5 variables\n",
    "\n",
    "# Permutation de Nombre de lots en variable quantitative :\n",
    "df_reg['Nombre de lots'] = df_reg['Nombre de lots'].astype(str).str.replace(\",\", \".\").astype(float)\n",
    "print('Type de Nombre de lots :', df_reg['Nombre de lots'].dtypes)"
   ]
  },
  {
   "cell_type": "code",
   "execution_count": 30,
   "metadata": {},
   "outputs": [
    {
     "name": "stdout",
     "output_type": "stream",
     "text": [
      "(2166999, 16)\n",
      "(2138139, 16)\n"
     ]
    }
   ],
   "source": [
    "# Drop des outliers :\n",
    "print(df_test.shape)\n",
    "top_10_feature_indices.append(\"Valeur fonciere\")\n",
    "for col in top_10_feature_indices:\n",
    "    Q1 = df_test[col].quantile(0.25)\n",
    "    Q3 = df_test[col].quantile(0.75)\n",
    "    IQR = Q3 - Q1\n",
    "    lower_bound = Q1 - 1.5 * IQR\n",
    "    upper_bound = Q3 + 1.5 * IQR\n",
    "    df_boop = df_test[(df_test[col] >= lower_bound) & (df_test[col] <= upper_bound)]\n",
    "print(df_boop.shape)"
   ]
  },
  {
   "cell_type": "markdown",
   "metadata": {},
   "source": [
    "Nous pouvons ainsi lancer les modèles de classification afin de prédire Type local, qui nous aideront ensuite à prédire Valeur foncière."
   ]
  },
  {
   "cell_type": "markdown",
   "metadata": {},
   "source": [
    "# CLASSIFICATION"
   ]
  },
  {
   "cell_type": "markdown",
   "metadata": {},
   "source": [
    "# Échantillons d'apprentissage vs. Échantillons test"
   ]
  },
  {
   "cell_type": "markdown",
   "metadata": {},
   "source": [
    "Nous définissons nos échantillons d'apprentissage et de test.\n",
    "\n",
    "Pour cela, nous décidons de ne garder que 4 variables : après des analyses préalables (non visibles ici), nous avons constaté l'enrichissement des modèles prédictifs seulement pour les variables \"Surface reelle bati\", \"Nombre de lots\", et \"Nombre pieces principales\" dans la prédiction de \"Type local\"."
   ]
  },
  {
   "cell_type": "code",
   "execution_count": 32,
   "metadata": {},
   "outputs": [],
   "source": [
    "# Création d'un dataframe pour la classification :\n",
    "df_clas = df_reg[['Surface reelle bati', 'Nombre de lots', 'Nombre pieces principales', 'Type local']]"
   ]
  },
  {
   "cell_type": "code",
   "execution_count": 33,
   "metadata": {},
   "outputs": [
    {
     "name": "stdout",
     "output_type": "stream",
     "text": [
      "Axes(0.125,0.11;0.775x0.77)\n",
      "Axes(0.125,0.11;0.775x0.77)\n",
      "Axes(0.125,0.11;0.775x0.77)\n"
     ]
    },
    {
     "data": {
      "image/png": "[encoded data removed]",
      "text/plain": [
       "<Figure size 1000x1000 with 1 Axes>"
      ]
     },
     "metadata": {},
     "output_type": "display_data"
    },
    {
     "data": {
      "image/png": "[encoded data removed]",
      "text/plain": [
       "<Figure size 1000x1000 with 1 Axes>"
      ]
     },
     "metadata": {},
     "output_type": "display_data"
    },
    {
     "data": {
      "image/png": "[encoded data removed]",
      "text/plain": [
       "<Figure size 1000x1000 with 1 Axes>"
      ]
     },
     "metadata": {},
     "output_type": "display_data"
    }
   ],
   "source": [
    "# Boîtes à moustaches :\n",
    "\n",
    "# Type local en fonction de Nombre de lots :\n",
    "plt.subplots(figsize=(10,10)) # Taille du boxplot\n",
    "bp_lots = sns.boxplot(x=\"Nombre de lots\", y=\"Type local\", data=df_clas)\n",
    "print(bp_lots)\n",
    "\n",
    "# Type local en fonction de Surface reelle bati :\n",
    "plt.subplots(figsize=(10,10)) # Taille du boxplot\n",
    "bp_bati = sns.boxplot(x=\"Surface reelle bati\", y=\"Type local\", data=df_clas)\n",
    "print(bp_bati)\n",
    "\n",
    "# Type local en fonction de Nombre pieces principales :\n",
    "plt.subplots(figsize=(10,10)) # Taille du boxplot\n",
    "bp_pieces = sns.boxplot(x=\"Nombre pieces principales\", y=\"Type local\", data=df_clas)\n",
    "print(bp_pieces)"
   ]
  },
  {
   "cell_type": "markdown",
   "metadata": {},
   "source": [
    "Nous définissons nos variables explicatives : \"Surface reelle bati\", \"Nombre de lots\", \"Nombre pieces principales\" ; et notre variable cible : \"Type local\"."
   ]
  },
  {
   "cell_type": "code",
   "execution_count": 34,
   "metadata": {},
   "outputs": [],
   "source": [
    "# Variables explicatives :\n",
    "X = df_clas[['Surface reelle bati', 'Nombre de lots', 'Nombre pieces principales']]\n",
    "\n",
    "# Variable cible :\n",
    "y = df_clas['Type local']"
   ]
  },
  {
   "cell_type": "markdown",
   "metadata": {},
   "source": [
    "Nous vérifions la distribution des modalités de Type local."
   ]
  },
  {
   "cell_type": "code",
   "execution_count": 35,
   "metadata": {},
   "outputs": [
    {
     "data": {
      "text/plain": [
       "Type local\n",
       "Maison                                      0.574997\n",
       "Appartement                                 0.273241\n",
       "Dépendance                                  0.101465\n",
       "Local industriel. commercial ou assimilé    0.050297\n",
       "Name: proportion, dtype: float64"
      ]
     },
     "execution_count": 35,
     "metadata": {},
     "output_type": "execute_result"
    }
   ],
   "source": [
    "# Distribution de chaque modalité de Type local :\n",
    "y.value_counts(normalize=True)"
   ]
  },
  {
   "cell_type": "markdown",
   "metadata": {},
   "source": [
    "Nous effectuons notre split échantillons d'apprentissage vs. échantillons test. Nous vérifions que les distributions de Type local sont bien les mêmes entre apprentissage et test."
   ]
  },
  {
   "cell_type": "code",
   "execution_count": 36,
   "metadata": {},
   "outputs": [
    {
     "name": "stdout",
     "output_type": "stream",
     "text": [
      "Distribution de Type local en apprentissage : Type local\n",
      "Maison                                      0.574997\n",
      "Appartement                                 0.273241\n",
      "Dépendance                                  0.101465\n",
      "Local industriel. commercial ou assimilé    0.050297\n",
      "Name: proportion, dtype: float64\n",
      "Distribution de Type local en test : Type local\n",
      "Maison                                      0.574997\n",
      "Appartement                                 0.273242\n",
      "Dépendance                                  0.101464\n",
      "Local industriel. commercial ou assimilé    0.050297\n",
      "Name: proportion, dtype: float64\n"
     ]
    }
   ],
   "source": [
    "# Split train-test :\n",
    "from sklearn.model_selection import train_test_split\n",
    "# 70% des données pour l’apprentissage\n",
    "# 30% des données pour l'échantillon test\n",
    "X_train, X_test, y_train, y_test = train_test_split(X, y,\n",
    "                                                    test_size = 0.3,\n",
    "                                                    stratify = y,\n",
    "                                                    random_state = 0)\n",
    "\n",
    "# Stratification des distributions de Type local :\n",
    "print('Distribution de Type local en apprentissage :', y_train.value_counts(normalize=True))\n",
    "print('Distribution de Type local en test :', y_test.value_counts(normalize=True))\n"
   ]
  },
  {
   "cell_type": "markdown",
   "metadata": {},
   "source": [
    "# Transformation des données"
   ]
  },
  {
   "cell_type": "markdown",
   "metadata": {},
   "source": [
    "Pour l'optimisation temporelle des modèles, nous avons fait le choix de remplacer les valeurs manquantes par la moyenne (pour les variables quantitatives explicatives).\n",
    "\n",
    "Notre premier choix était de remplacer les valeurs manquantes par les kNN. Cependant, cela prenait trop de temps dans le traitement."
   ]
  },
  {
   "cell_type": "code",
   "execution_count": 37,
   "metadata": {},
   "outputs": [
    {
     "name": "stdout",
     "output_type": "stream",
     "text": [
      "Surface reelle bati          0\n",
      "Nombre de lots               0\n",
      "Nombre pieces principales    0\n",
      "dtype: int64\n",
      "Surface reelle bati          0\n",
      "Nombre de lots               0\n",
      "Nombre pieces principales    0\n",
      "dtype: int64\n"
     ]
    }
   ],
   "source": [
    "# Remplacement des NaN :\n",
    "\n",
    "# Échantillon d'apprentissage :\n",
    "for col in X_train :\n",
    "    X_train[col] = X_train[col].fillna(X_train[col].mean())\n",
    "\n",
    "# Vérification du remplacement des NaN :\n",
    "print(X_train.isna().sum()) # 0 NaN\n",
    "\n",
    "# Échantillon test :\n",
    "for col in X_test :\n",
    "    X_test[col] = X_test[col].fillna(X_test[col].mean())\n",
    "\n",
    "# Vérification du remplacement des NaN :\n",
    "print(X_test.isna().sum()) # 0 NaN"
   ]
  },
  {
   "cell_type": "markdown",
   "metadata": {},
   "source": [
    "Nous pouvons de nouveau standardiser les variables explicatives en apprentissage et en test."
   ]
  },
  {
   "cell_type": "code",
   "execution_count": 38,
   "metadata": {},
   "outputs": [
    {
     "name": "stdout",
     "output_type": "stream",
     "text": [
      "[[-0.0361858  -0.6685703  -0.01760796]\n",
      " [ 0.17120603 -0.6685703   0.51240179]\n",
      " [-0.09050271 -0.6685703   0.51240179]\n",
      " ...\n",
      " [ 0.54648649 -0.6685703   1.57242128]\n",
      " [ 0.16626813 -0.6685703   0.51240179]\n",
      " [-0.0213721  -0.6685703   0.51240179]]\n",
      "[[-1.92653692e-01  4.41863234e-01 -5.48131618e-01]\n",
      " [ 5.08911135e-02 -6.79287138e-01  1.03854380e+00]\n",
      " [ 6.35836093e-04 -6.79287138e-01  5.09651997e-01]\n",
      " ...\n",
      " [-2.27445807e-01  4.41863234e-01 -1.07702343e+00]\n",
      " [-2.25589073e-02 -6.79287138e-01  1.03854380e+00]\n",
      " [-1.48273262e-02 -6.79287138e-01  5.09651997e-01]]\n"
     ]
    }
   ],
   "source": [
    "# Standardisation des variables :\n",
    "from sklearn.preprocessing import StandardScaler\n",
    "\n",
    "# Échantillon d'apprentissage :\n",
    "Xtrain_Z = X_train\n",
    "scaler = StandardScaler()\n",
    "Xtrain_Z = scaler.fit_transform(Xtrain_Z)\n",
    "print(Xtrain_Z) # array\n",
    "\n",
    "# Échantillon test :\n",
    "Xtest_Z = X_test\n",
    "Xtest_Z = scaler.fit_transform(Xtest_Z)\n",
    "print(Xtest_Z) # array"
   ]
  },
  {
   "cell_type": "code",
   "execution_count": 39,
   "metadata": {},
   "outputs": [
    {
     "name": "stdout",
     "output_type": "stream",
     "text": [
      "         Surface reelle bati  Nombre de lots  Nombre pieces principales\n",
      "0                  -0.036186       -0.668570                  -0.017608\n",
      "1                   0.171206       -0.668570                   0.512402\n",
      "2                  -0.090503       -0.668570                   0.512402\n",
      "3                  27.250654       -0.668570                  -1.607637\n",
      "4                  -0.095441       -0.668570                  -0.017608\n",
      "...                      ...             ...                        ...\n",
      "1496660            -0.401590        0.434299                  -1.607637\n",
      "1496661            -0.120130       -0.668570                  -0.017608\n",
      "1496662             0.546486       -0.668570                   1.572421\n",
      "1496663             0.166268       -0.668570                   0.512402\n",
      "1496664            -0.021372       -0.668570                   0.512402\n",
      "\n",
      "[1496665 rows x 3 columns]\n",
      "        Surface reelle bati  Nombre de lots  Nombre pieces principales\n",
      "0                 -0.192654        0.441863                  -0.548132\n",
      "1                  0.050891       -0.679287                   1.038544\n",
      "2                  0.000636       -0.679287                   0.509652\n",
      "3                 -0.316359        0.441863                  -1.605915\n",
      "4                  0.101146       -0.679287                  -0.548132\n",
      "...                     ...             ...                        ...\n",
      "641423            -0.065083       -0.679287                   0.509652\n",
      "641424            -0.316359        0.441863                  -1.605915\n",
      "641425            -0.227446        0.441863                  -1.077023\n",
      "641426            -0.022559       -0.679287                   1.038544\n",
      "641427            -0.014827       -0.679287                   0.509652\n",
      "\n",
      "[641428 rows x 3 columns]\n"
     ]
    }
   ],
   "source": [
    "# Transformation des ndarray en dataframe :\n",
    "\n",
    "# Train :\n",
    "Xtrain_Z = pd.DataFrame(data=Xtrain_Z, columns=X.columns)\n",
    "print(Xtrain_Z)\n",
    "\n",
    "# Test :\n",
    "Xtest_Z = pd.DataFrame(data=Xtest_Z, columns=X.columns)\n",
    "print(Xtest_Z)"
   ]
  },
  {
   "cell_type": "markdown",
   "metadata": {},
   "source": [
    "Nous lançons nos modèles prédictifs de Type local."
   ]
  },
  {
   "cell_type": "markdown",
   "metadata": {},
   "source": [
    "# Arbre de décision"
   ]
  },
  {
   "cell_type": "markdown",
   "metadata": {},
   "source": [
    "Nous laçons un arbre de décision pour prédire Type local."
   ]
  },
  {
   "cell_type": "code",
   "execution_count": 40,
   "metadata": {},
   "outputs": [
    {
     "data": {
      "image/png": "[encoded data removed]",
      "text/plain": [
       "<Figure size 1500x500 with 1 Axes>"
      ]
     },
     "metadata": {},
     "output_type": "display_data"
    }
   ],
   "source": [
    "# Apprentissage :\n",
    "\n",
    "# Chargement des librairies utiles :\n",
    "from sklearn.tree import DecisionTreeClassifier\n",
    "from sklearn.tree import plot_tree\n",
    "\n",
    "# Construction de l'arbre de décision :\n",
    "dtc = DecisionTreeClassifier\n",
    "tree = dtc(max_depth=3, min_samples_leaf=10, min_samples_split=20, random_state=0)\n",
    "tree = tree.fit(Xtrain_Z, y_train)\n",
    "\n",
    "# Règles de l'arbre de décision\n",
    "plt.figure(figsize=(15,5)) # Taille de l'affichage de l'arbre\n",
    "plot_tree(tree, feature_names = list(Xtrain_Z.columns),filled=True, fontsize=10)\n",
    "plt.show()"
   ]
  },
  {
   "cell_type": "markdown",
   "metadata": {},
   "source": [
    "À l'aide de notre modèle, nous prédisons Type local."
   ]
  },
  {
   "cell_type": "code",
   "execution_count": 41,
   "metadata": {},
   "outputs": [
    {
     "name": "stdout",
     "output_type": "stream",
     "text": [
      "Voici la matrice de confusion entre les valeurs de Type local observées vs. prédites :\n"
     ]
    },
    {
     "data": {
      "text/html": [
       "<div>\n",
       "<style scoped>\n",
       "    .dataframe tbody tr th:only-of-type {\n",
       "        vertical-align: middle;\n",
       "    }\n",
       "\n",
       "    .dataframe tbody tr th {\n",
       "        vertical-align: top;\n",
       "    }\n",
       "\n",
       "    .dataframe thead th {\n",
       "        text-align: right;\n",
       "    }\n",
       "</style>\n",
       "<table border=\"1\" class=\"dataframe\">\n",
       "  <thead>\n",
       "    <tr style=\"text-align: right;\">\n",
       "      <th>pred</th>\n",
       "      <th>Appartement</th>\n",
       "      <th>Local industriel. commercial ou assimilé</th>\n",
       "      <th>Maison</th>\n",
       "      <th>All</th>\n",
       "    </tr>\n",
       "    <tr>\n",
       "      <th>obs</th>\n",
       "      <th></th>\n",
       "      <th></th>\n",
       "      <th></th>\n",
       "      <th></th>\n",
       "    </tr>\n",
       "  </thead>\n",
       "  <tbody>\n",
       "    <tr>\n",
       "      <th>Appartement</th>\n",
       "      <td>174060</td>\n",
       "      <td>269</td>\n",
       "      <td>936</td>\n",
       "      <td>175265</td>\n",
       "    </tr>\n",
       "    <tr>\n",
       "      <th>Dépendance</th>\n",
       "      <td>0</td>\n",
       "      <td>65082</td>\n",
       "      <td>0</td>\n",
       "      <td>65082</td>\n",
       "    </tr>\n",
       "    <tr>\n",
       "      <th>Local industriel. commercial ou assimilé</th>\n",
       "      <td>7</td>\n",
       "      <td>31839</td>\n",
       "      <td>416</td>\n",
       "      <td>32262</td>\n",
       "    </tr>\n",
       "    <tr>\n",
       "      <th>Maison</th>\n",
       "      <td>17730</td>\n",
       "      <td>280</td>\n",
       "      <td>350809</td>\n",
       "      <td>368819</td>\n",
       "    </tr>\n",
       "    <tr>\n",
       "      <th>All</th>\n",
       "      <td>191797</td>\n",
       "      <td>97470</td>\n",
       "      <td>352161</td>\n",
       "      <td>641428</td>\n",
       "    </tr>\n",
       "  </tbody>\n",
       "</table>\n",
       "</div>"
      ],
      "text/plain": [
       "pred                                      Appartement  \\\n",
       "obs                                                     \n",
       "Appartement                                    174060   \n",
       "Dépendance                                          0   \n",
       "Local industriel. commercial ou assimilé            7   \n",
       "Maison                                          17730   \n",
       "All                                            191797   \n",
       "\n",
       "pred                                      Local industriel. commercial ou assimilé  \\\n",
       "obs                                                                                  \n",
       "Appartement                                                                    269   \n",
       "Dépendance                                                                   65082   \n",
       "Local industriel. commercial ou assimilé                                     31839   \n",
       "Maison                                                                         280   \n",
       "All                                                                          97470   \n",
       "\n",
       "pred                                      Maison     All  \n",
       "obs                                                       \n",
       "Appartement                                  936  175265  \n",
       "Dépendance                                     0   65082  \n",
       "Local industriel. commercial ou assimilé     416   32262  \n",
       "Maison                                    350809  368819  \n",
       "All                                       352161  641428  "
      ]
     },
     "execution_count": 41,
     "metadata": {},
     "output_type": "execute_result"
    }
   ],
   "source": [
    "# Prédiction :\n",
    "y_predTree = tree.predict(Xtest_Z)\n",
    "\n",
    "# Matrice de confusion en utilisant pandas.crosstab() :\n",
    "mc1 = pd.crosstab(y_test,y_predTree, colnames=['pred'], rownames=['obs'], margins=True)\n",
    "print('Voici la matrice de confusion entre les valeurs de Type local observées vs. prédites :')\n",
    "mc1"
   ]
  },
  {
   "cell_type": "markdown",
   "metadata": {},
   "source": [
    "Nous évaluons ensuite notre modèle prédictif grâce à différentes métriques."
   ]
  },
  {
   "cell_type": "code",
   "execution_count": 42,
   "metadata": {},
   "outputs": [
    {
     "name": "stdout",
     "output_type": "stream",
     "text": [
      "Rapport complet des métriques :\n",
      "L'accuracy est de 0.8679197041600928\n",
      "La precision est de 0.8371920406261947\n",
      "Le recall est de 0.8679197041600928\n",
      "Le f1_score est de 0.8433845284437785\n"
     ]
    }
   ],
   "source": [
    "# Évaluation :\n",
    "\n",
    "# Métriques - Rapport complet :\n",
    "from sklearn.metrics import classification_report\n",
    "report_tree = classification_report(y_test, y_predTree)\n",
    "print('Rapport complet des métriques :')\n",
    "report_tree\n",
    "\n",
    "# Métriques individuelles :\n",
    "from sklearn.metrics import accuracy_score, mean_squared_error, precision_score, recall_score, f1_score\n",
    "# Accuracy :\n",
    "acc_tree = accuracy_score(y_test, y_predTree)\n",
    "print(\"L'accuracy est de\", acc_tree) # 87%\n",
    "# Precision :\n",
    "precision_tree = precision_score(y_test, y_predTree, average='weighted')\n",
    "print(\"La precision est de\", precision_tree) # 84%\n",
    "# Recall :\n",
    "recall_tree = recall_score(y_test, y_predTree, average='weighted')\n",
    "print(\"Le recall est de\", recall_tree) # 87%\n",
    "# F1 score :\n",
    "f1_tree = f1_score(y_test,y_predTree,average='weighted')\n",
    "print('Le f1_score est de', f1_tree) # 84%"
   ]
  },
  {
   "cell_type": "markdown",
   "metadata": {},
   "source": [
    "# Arbre de décision optimisé"
   ]
  },
  {
   "cell_type": "markdown",
   "metadata": {},
   "source": [
    "L'optimisation des hyperparamètres de l'arbre de décision via un GridSearch avec validation croisée n'a pas de sens. En effet, des transformations de standardisation ont été opérées sur les données avant le split train-test de la cross-validation du GridSearch."
   ]
  },
  {
   "cell_type": "code",
   "execution_count": 183,
   "metadata": {},
   "outputs": [],
   "source": [
    "# Chargement des librairies utiles :\n",
    "#from sklearn.model_selection import GridSearchCV\n",
    "#from sklearn.model_selection import ShuffleSplit"
   ]
  },
  {
   "cell_type": "code",
   "execution_count": 184,
   "metadata": {},
   "outputs": [
    {
     "name": "stdout",
     "output_type": "stream",
     "text": [
      "Les paramètres du meilleur modèle sont : DecisionTreeClassifier(max_depth=6, min_samples_leaf=10, min_samples_split=50)\n",
      "Le score make_scorer(accuracy_score) du meilleur modèle est : 0.9720284791350782\n"
     ]
    }
   ],
   "source": [
    "# Optimisation des hyperparamètres de l'arbre :\n",
    "#parameters = {'max_depth' : [1,2,3,4,5,6] ,\n",
    "              #'min_samples_leaf' : [10,20,30,40],\n",
    "              #'min_samples_split' : [50,100,200]}\n",
    "\n",
    "#dtc = DecisionTreeClassifier()\n",
    "#tree_op = GridSearchCV(dtc, parameters, scoring = 'accuracy' ,\n",
    "                   #cv = ShuffleSplit(test_size=0.3, n_splits=1, random_state=0))\n",
    "#tree_op.fit(Xtrain_Z, y_train)\n",
    "\n",
    "# Hyperparamètres optimisés :\n",
    "#print(\"Les paramètres du meilleur modèle sont : \" + str(tree_op.best_estimator_))\n",
    "# max_depth = 6\n",
    "# min_samples_leaf = 10\n",
    "# min_samples_split = 50\n",
    "\n",
    "# Accuracy :\n",
    "#print(\"Le \" + str(tree_op.scorer_) + \" du meilleur modèle est : \" + str(tree_op.best_score_)) # 97%\n",
    "# F1 score :"
   ]
  },
  {
   "cell_type": "code",
   "execution_count": null,
   "metadata": {},
   "outputs": [],
   "source": [
    "# Arbre de décision avec paramètres optimisés :\n",
    "#plt.figure(figsize=(15,20)) # Taille de l'arbre affiché\n",
    "#plot_tree(tree_op.best_estimator_,feature_names = list(Xtrain_Z.columns),filled=True, fontsize=10)\n",
    "#plt.show()"
   ]
  },
  {
   "cell_type": "code",
   "execution_count": 190,
   "metadata": {},
   "outputs": [
    {
     "data": {
      "text/html": [
       "<div>\n",
       "<style scoped>\n",
       "    .dataframe tbody tr th:only-of-type {\n",
       "        vertical-align: middle;\n",
       "    }\n",
       "\n",
       "    .dataframe tbody tr th {\n",
       "        vertical-align: top;\n",
       "    }\n",
       "\n",
       "    .dataframe thead th {\n",
       "        text-align: right;\n",
       "    }\n",
       "</style>\n",
       "<table border=\"1\" class=\"dataframe\">\n",
       "  <thead>\n",
       "    <tr style=\"text-align: right;\">\n",
       "      <th>pred</th>\n",
       "      <th>Appartement</th>\n",
       "      <th>Local industriel. commercial ou assimilé</th>\n",
       "      <th>Maison</th>\n",
       "      <th>All</th>\n",
       "    </tr>\n",
       "    <tr>\n",
       "      <th>obs</th>\n",
       "      <th></th>\n",
       "      <th></th>\n",
       "      <th></th>\n",
       "      <th></th>\n",
       "    </tr>\n",
       "  </thead>\n",
       "  <tbody>\n",
       "    <tr>\n",
       "      <th>Appartement</th>\n",
       "      <td>174330</td>\n",
       "      <td>280</td>\n",
       "      <td>2893</td>\n",
       "      <td>177503</td>\n",
       "    </tr>\n",
       "    <tr>\n",
       "      <th>Dépendance</th>\n",
       "      <td>0</td>\n",
       "      <td>54995</td>\n",
       "      <td>10436</td>\n",
       "      <td>65431</td>\n",
       "    </tr>\n",
       "    <tr>\n",
       "      <th>Local industriel. commercial ou assimilé</th>\n",
       "      <td>8</td>\n",
       "      <td>32009</td>\n",
       "      <td>717</td>\n",
       "      <td>32734</td>\n",
       "    </tr>\n",
       "    <tr>\n",
       "      <th>Maison</th>\n",
       "      <td>14088</td>\n",
       "      <td>284</td>\n",
       "      <td>360060</td>\n",
       "      <td>374432</td>\n",
       "    </tr>\n",
       "    <tr>\n",
       "      <th>All</th>\n",
       "      <td>188426</td>\n",
       "      <td>87568</td>\n",
       "      <td>374106</td>\n",
       "      <td>650100</td>\n",
       "    </tr>\n",
       "  </tbody>\n",
       "</table>\n",
       "</div>"
      ],
      "text/plain": [
       "pred                                      Appartement  \\\n",
       "obs                                                     \n",
       "Appartement                                    174330   \n",
       "Dépendance                                          0   \n",
       "Local industriel. commercial ou assimilé            8   \n",
       "Maison                                          14088   \n",
       "All                                            188426   \n",
       "\n",
       "pred                                      Local industriel. commercial ou assimilé  \\\n",
       "obs                                                                                  \n",
       "Appartement                                                                    280   \n",
       "Dépendance                                                                   54995   \n",
       "Local industriel. commercial ou assimilé                                     32009   \n",
       "Maison                                                                         284   \n",
       "All                                                                          87568   \n",
       "\n",
       "pred                                      Maison     All  \n",
       "obs                                                       \n",
       "Appartement                                 2893  177503  \n",
       "Dépendance                                 10436   65431  \n",
       "Local industriel. commercial ou assimilé     717   32734  \n",
       "Maison                                    360060  374432  \n",
       "All                                       374106  650100  "
      ]
     },
     "execution_count": 190,
     "metadata": {},
     "output_type": "execute_result"
    }
   ],
   "source": [
    "# Prédiction :\n",
    "#y_predTree_op = tree_op.predict(Xtest_Z)\n",
    "\n",
    "# Matrice de confusion :\n",
    "#mc2 = pd.crosstab(y_test,y_predTree_op, colnames=['pred'], rownames=['obs'], margins=True)\n",
    "#mc2\n"
   ]
  },
  {
   "cell_type": "code",
   "execution_count": 43,
   "metadata": {},
   "outputs": [],
   "source": [
    "# Évaluation :\n",
    "\n",
    "# Métriques - Rapport complet :\n",
    "#report_tree_op = classification_report(y_test, y_predTree_op)\n",
    "#print(report_tree_op)\n",
    "\n",
    "# Métriques individuelles :\n",
    "# Accuracy :\n",
    "#acc_tree_op = accuracy_score(y_test, y_predTree_op)\n",
    "#print(\"L'accuracy est de\", acc_tree_op) # 87%\n",
    "# Precision :\n",
    "#precision_tree_op = precision_score(y_test, y_predTree_op, average='weighted')\n",
    "#print(\"La precision est de\", precision_tree_op) # 84%\n",
    "# Recall :\n",
    "#recall_tree_op = recall_score(y_test, y_predTree_op, average='weighted')\n",
    "#print(\"Le recall est de\", recall_tree_op) # 87%\n",
    "# F1 score :\n",
    "#f1_tree_op = f1_score(y_test,y_predTree_op,average='weighted')\n",
    "#print('Le f1_score est de', f1_tree_op) # 84%"
   ]
  },
  {
   "cell_type": "markdown",
   "metadata": {},
   "source": [
    "# KNeighbors Classifier (sans GridSearch)"
   ]
  },
  {
   "cell_type": "markdown",
   "metadata": {},
   "source": [
    "Nous laçons ensuite un modèle KNeighbors Classifier pour prédire Type local."
   ]
  },
  {
   "cell_type": "code",
   "execution_count": 44,
   "metadata": {},
   "outputs": [
    {
     "data": {
      "text/html": [
       "<style>#sk-container-id-1 {color: black;}#sk-container-id-1 pre{padding: 0;}#sk-container-id-1 div.sk-toggleable {background-color: white;}#sk-container-id-1 label.sk-toggleable__label {cursor: pointer;display: block;width: 100%;margin-bottom: 0;padding: 0.3em;box-sizing: border-box;text-align: center;}#sk-container-id-1 label.sk-toggleable__label-arrow:before {content: \"▸\";float: left;margin-right: 0.25em;color: #696969;}#sk-container-id-1 label.sk-toggleable__label-arrow:hover:before {color: black;}#sk-container-id-1 div.sk-estimator:hover label.sk-toggleable__label-arrow:before {color: black;}#sk-container-id-1 div.sk-toggleable__content {max-height: 0;max-width: 0;overflow: hidden;text-align: left;background-color: #f0f8ff;}#sk-container-id-1 div.sk-toggleable__content pre {margin: 0.2em;color: black;border-radius: 0.25em;background-color: #f0f8ff;}#sk-container-id-1 input.sk-toggleable__control:checked~div.sk-toggleable__content {max-height: 200px;max-width: 100%;overflow: auto;}#sk-container-id-1 input.sk-toggleable__control:checked~label.sk-toggleable__label-arrow:before {content: \"▾\";}#sk-container-id-1 div.sk-estimator input.sk-toggleable__control:checked~label.sk-toggleable__label {background-color: #d4ebff;}#sk-container-id-1 div.sk-label input.sk-toggleable__control:checked~label.sk-toggleable__label {background-color: #d4ebff;}#sk-container-id-1 input.sk-hidden--visually {border: 0;clip: rect(1px 1px 1px 1px);clip: rect(1px, 1px, 1px, 1px);height: 1px;margin: -1px;overflow: hidden;padding: 0;position: absolute;width: 1px;}#sk-container-id-1 div.sk-estimator {font-family: monospace;background-color: #f0f8ff;border: 1px dotted black;border-radius: 0.25em;box-sizing: border-box;margin-bottom: 0.5em;}#sk-container-id-1 div.sk-estimator:hover {background-color: #d4ebff;}#sk-container-id-1 div.sk-parallel-item::after {content: \"\";width: 100%;border-bottom: 1px solid gray;flex-grow: 1;}#sk-container-id-1 div.sk-label:hover label.sk-toggleable__label {background-color: #d4ebff;}#sk-container-id-1 div.sk-serial::before {content: \"\";position: absolute;border-left: 1px solid gray;box-sizing: border-box;top: 0;bottom: 0;left: 50%;z-index: 0;}#sk-container-id-1 div.sk-serial {display: flex;flex-direction: column;align-items: center;background-color: white;padding-right: 0.2em;padding-left: 0.2em;position: relative;}#sk-container-id-1 div.sk-item {position: relative;z-index: 1;}#sk-container-id-1 div.sk-parallel {display: flex;align-items: stretch;justify-content: center;background-color: white;position: relative;}#sk-container-id-1 div.sk-item::before, #sk-container-id-1 div.sk-parallel-item::before {content: \"\";position: absolute;border-left: 1px solid gray;box-sizing: border-box;top: 0;bottom: 0;left: 50%;z-index: -1;}#sk-container-id-1 div.sk-parallel-item {display: flex;flex-direction: column;z-index: 1;position: relative;background-color: white;}#sk-container-id-1 div.sk-parallel-item:first-child::after {align-self: flex-end;width: 50%;}#sk-container-id-1 div.sk-parallel-item:last-child::after {align-self: flex-start;width: 50%;}#sk-container-id-1 div.sk-parallel-item:only-child::after {width: 0;}#sk-container-id-1 div.sk-dashed-wrapped {border: 1px dashed gray;margin: 0 0.4em 0.5em 0.4em;box-sizing: border-box;padding-bottom: 0.4em;background-color: white;}#sk-container-id-1 div.sk-label label {font-family: monospace;font-weight: bold;display: inline-block;line-height: 1.2em;}#sk-container-id-1 div.sk-label-container {text-align: center;}#sk-container-id-1 div.sk-container {/* jupyter's `normalize.less` sets `[hidden] { display: none; }` but bootstrap.min.css set `[hidden] { display: none !important; }` so we also need the `!important` here to be able to override the default hidden behavior on the sphinx rendered scikit-learn.org. See: https://github.com/scikit-learn/scikit-learn/issues/21755 */display: inline-block !important;position: relative;}#sk-container-id-1 div.sk-text-repr-fallback {display: none;}</style><div id=\"sk-container-id-1\" class=\"sk-top-container\"><div class=\"sk-text-repr-fallback\"><pre>KNeighborsClassifier(n_neighbors=82)</pre><b>In a Jupyter environment, please rerun this cell to show the HTML representation or trust the notebook. <br />On GitHub, the HTML representation is unable to render, please try loading this page with nbviewer.org.</b></div><div class=\"sk-container\" hidden><div class=\"sk-item\"><div class=\"sk-estimator sk-toggleable\"><input class=\"sk-toggleable__control sk-hidden--visually\" id=\"sk-estimator-id-1\" type=\"checkbox\" checked><label for=\"sk-estimator-id-1\" class=\"sk-toggleable__label sk-toggleable__label-arrow\">KNeighborsClassifier</label><div class=\"sk-toggleable__content\"><pre>KNeighborsClassifier(n_neighbors=82)</pre></div></div></div></div></div>"
      ],
      "text/plain": [
       "KNeighborsClassifier(n_neighbors=82)"
      ]
     },
     "execution_count": 44,
     "metadata": {},
     "output_type": "execute_result"
    }
   ],
   "source": [
    "# Apprentissage :\n",
    "\n",
    "# Importation des librairies nécessaires :\n",
    "from sklearn.neighbors import KNeighborsClassifier\n",
    "\n",
    "# Modèle kNN classifier :\n",
    "knn_model = KNeighborsClassifier(n_neighbors=82)\n",
    "knn_model.fit(Xtrain_Z, y_train)"
   ]
  },
  {
   "cell_type": "markdown",
   "metadata": {},
   "source": [
    "À l'aide du modèle, nous prédisons Type local."
   ]
  },
  {
   "cell_type": "code",
   "execution_count": 45,
   "metadata": {},
   "outputs": [
    {
     "name": "stdout",
     "output_type": "stream",
     "text": [
      "Voici la matrice de confusion entre les valeurs de Type local observées vs. prédites :\n"
     ]
    },
    {
     "data": {
      "text/html": [
       "<div>\n",
       "<style scoped>\n",
       "    .dataframe tbody tr th:only-of-type {\n",
       "        vertical-align: middle;\n",
       "    }\n",
       "\n",
       "    .dataframe tbody tr th {\n",
       "        vertical-align: top;\n",
       "    }\n",
       "\n",
       "    .dataframe thead th {\n",
       "        text-align: right;\n",
       "    }\n",
       "</style>\n",
       "<table border=\"1\" class=\"dataframe\">\n",
       "  <thead>\n",
       "    <tr style=\"text-align: right;\">\n",
       "      <th>pred</th>\n",
       "      <th>Appartement</th>\n",
       "      <th>Local industriel. commercial ou assimilé</th>\n",
       "      <th>Maison</th>\n",
       "      <th>All</th>\n",
       "    </tr>\n",
       "    <tr>\n",
       "      <th>obs</th>\n",
       "      <th></th>\n",
       "      <th></th>\n",
       "      <th></th>\n",
       "      <th></th>\n",
       "    </tr>\n",
       "  </thead>\n",
       "  <tbody>\n",
       "    <tr>\n",
       "      <th>Appartement</th>\n",
       "      <td>170934</td>\n",
       "      <td>301</td>\n",
       "      <td>4030</td>\n",
       "      <td>175265</td>\n",
       "    </tr>\n",
       "    <tr>\n",
       "      <th>Dépendance</th>\n",
       "      <td>0</td>\n",
       "      <td>65082</td>\n",
       "      <td>0</td>\n",
       "      <td>65082</td>\n",
       "    </tr>\n",
       "    <tr>\n",
       "      <th>Local industriel. commercial ou assimilé</th>\n",
       "      <td>7</td>\n",
       "      <td>32255</td>\n",
       "      <td>0</td>\n",
       "      <td>32262</td>\n",
       "    </tr>\n",
       "    <tr>\n",
       "      <th>Maison</th>\n",
       "      <td>12361</td>\n",
       "      <td>290</td>\n",
       "      <td>356168</td>\n",
       "      <td>368819</td>\n",
       "    </tr>\n",
       "    <tr>\n",
       "      <th>All</th>\n",
       "      <td>183302</td>\n",
       "      <td>97928</td>\n",
       "      <td>360198</td>\n",
       "      <td>641428</td>\n",
       "    </tr>\n",
       "  </tbody>\n",
       "</table>\n",
       "</div>"
      ],
      "text/plain": [
       "pred                                      Appartement  \\\n",
       "obs                                                     \n",
       "Appartement                                    170934   \n",
       "Dépendance                                          0   \n",
       "Local industriel. commercial ou assimilé            7   \n",
       "Maison                                          12361   \n",
       "All                                            183302   \n",
       "\n",
       "pred                                      Local industriel. commercial ou assimilé  \\\n",
       "obs                                                                                  \n",
       "Appartement                                                                    301   \n",
       "Dépendance                                                                   65082   \n",
       "Local industriel. commercial ou assimilé                                     32255   \n",
       "Maison                                                                         290   \n",
       "All                                                                          97928   \n",
       "\n",
       "pred                                      Maison     All  \n",
       "obs                                                       \n",
       "Appartement                                 4030  175265  \n",
       "Dépendance                                     0   65082  \n",
       "Local industriel. commercial ou assimilé       0   32262  \n",
       "Maison                                    356168  368819  \n",
       "All                                       360198  641428  "
      ]
     },
     "execution_count": 45,
     "metadata": {},
     "output_type": "execute_result"
    }
   ],
   "source": [
    "# Prédiction :\n",
    "y_predknn = knn_model.predict(Xtest_Z)\n",
    "\n",
    "# Matrice de confusion :\n",
    "mc3 = pd.crosstab(y_test,y_predknn, colnames=['pred'], rownames=['obs'], margins=True)\n",
    "print('Voici la matrice de confusion entre les valeurs de Type local observées vs. prédites :')\n",
    "mc3"
   ]
  },
  {
   "cell_type": "markdown",
   "metadata": {},
   "source": [
    "Nous évaluons notre modèle à l'aide de différentes métriques."
   ]
  },
  {
   "cell_type": "code",
   "execution_count": 46,
   "metadata": {},
   "outputs": [
    {
     "name": "stdout",
     "output_type": "stream",
     "text": [
      "L'accuracy est de 0.87204955193724\n",
      "La precision est de 0.8399354468117173\n",
      "Le recall est de 0.87204955193724\n",
      "Le f1_score est de 0.8472791174109171\n"
     ]
    }
   ],
   "source": [
    "# Évaluation :\n",
    "\n",
    "# Métriques - Rapport complet :\n",
    "from sklearn.metrics import classification_report\n",
    "report_knn = classification_report(y_test, y_predknn)\n",
    "report_knn\n",
    "\n",
    "# Métriques individuelles :\n",
    "from sklearn.metrics import accuracy_score, mean_squared_error, precision_score, recall_score, f1_score\n",
    "# Accuracy :\n",
    "acc_knn = accuracy_score(y_test, y_predknn)\n",
    "print(\"L'accuracy est de\", acc_knn) # 97%\n",
    "# Precision :\n",
    "precision_knn = precision_score(y_test, y_predknn, average='weighted')\n",
    "print(\"La precision est de\", precision_knn) # 92%\n",
    "# Recall :\n",
    "recall_knn = recall_score(y_test, y_predknn, average='weighted')\n",
    "print(\"Le recall est de\", recall_knn) # 97%\n",
    "# F1 score :\n",
    "f1_knn = f1_score(y_test,y_predknn, average='weighted')\n",
    "print('Le f1_score est de', f1_knn) # 97%"
   ]
  },
  {
   "cell_type": "markdown",
   "metadata": {},
   "source": [
    "# KNeighbors Classifier (avec GridSearch)"
   ]
  },
  {
   "cell_type": "markdown",
   "metadata": {},
   "source": [
    "Le même modèle que précédemment avec optimisation des paramètres est non seulement long à lancer, mais en plus n'a pas de sens (les données ont été prélablement transformées avant le split train-test de la validation croisée du GridSearch)."
   ]
  },
  {
   "cell_type": "code",
   "execution_count": 202,
   "metadata": {},
   "outputs": [
    {
     "name": "stdout",
     "output_type": "stream",
     "text": [
      "C'est bon tu peux envoyer l'apprentissage !\n",
      "Nombre de combinaison :\n",
      "33\n"
     ]
    }
   ],
   "source": [
    "# Fonction qui donne le nombre de combinaisons que le GridSearch va faire :\n",
    "def alerteCombinaison(dictionary_param):\n",
    "    from numpy import prod\n",
    "    lengths = [len(v) for v in parameters.values()]\n",
    "    count = prod(lengths)\n",
    "    if count < 500:\n",
    "        print(\"C'est bon tu peux envoyer l'apprentissage !\")\n",
    "    elif count < 1000:\n",
    "        print(\"Tu peux lire tes mails pendant l'apprentissage !\")\n",
    "    elif count < 2000:\n",
    "        print(\"Tu peux répondre à tes mails pendant l'apprentissage !\")\n",
    "    else:\n",
    "        print(\"Tu peux mettre ton PC en veille et revenir demain !\")\n",
    "\n",
    "    print(\"Nombre de combinaison :\")\n",
    "    return(count)\n",
    "\n",
    "from sklearn.metrics import make_scorer\n",
    "parameters = {'n_neighbors' : np.arange(1,100,3)}\n",
    "print(alerteCombinaison(parameters))"
   ]
  },
  {
   "cell_type": "code",
   "execution_count": 203,
   "metadata": {},
   "outputs": [
    {
     "name": "stdout",
     "output_type": "stream",
     "text": [
      "Fitting 1 folds for each of 33 candidates, totalling 33 fits\n"
     ]
    },
    {
     "data": {
      "text/html": [
       "<style>#sk-container-id-4 {color: black;background-color: white;}#sk-container-id-4 pre{padding: 0;}#sk-container-id-4 div.sk-toggleable {background-color: white;}#sk-container-id-4 label.sk-toggleable__label {cursor: pointer;display: block;width: 100%;margin-bottom: 0;padding: 0.3em;box-sizing: border-box;text-align: center;}#sk-container-id-4 label.sk-toggleable__label-arrow:before {content: \"▸\";float: left;margin-right: 0.25em;color: #696969;}#sk-container-id-4 label.sk-toggleable__label-arrow:hover:before {color: black;}#sk-container-id-4 div.sk-estimator:hover label.sk-toggleable__label-arrow:before {color: black;}#sk-container-id-4 div.sk-toggleable__content {max-height: 0;max-width: 0;overflow: hidden;text-align: left;background-color: #f0f8ff;}#sk-container-id-4 div.sk-toggleable__content pre {margin: 0.2em;color: black;border-radius: 0.25em;background-color: #f0f8ff;}#sk-container-id-4 input.sk-toggleable__control:checked~div.sk-toggleable__content {max-height: 200px;max-width: 100%;overflow: auto;}#sk-container-id-4 input.sk-toggleable__control:checked~label.sk-toggleable__label-arrow:before {content: \"▾\";}#sk-container-id-4 div.sk-estimator input.sk-toggleable__control:checked~label.sk-toggleable__label {background-color: #d4ebff;}#sk-container-id-4 div.sk-label input.sk-toggleable__control:checked~label.sk-toggleable__label {background-color: #d4ebff;}#sk-container-id-4 input.sk-hidden--visually {border: 0;clip: rect(1px 1px 1px 1px);clip: rect(1px, 1px, 1px, 1px);height: 1px;margin: -1px;overflow: hidden;padding: 0;position: absolute;width: 1px;}#sk-container-id-4 div.sk-estimator {font-family: monospace;background-color: #f0f8ff;border: 1px dotted black;border-radius: 0.25em;box-sizing: border-box;margin-bottom: 0.5em;}#sk-container-id-4 div.sk-estimator:hover {background-color: #d4ebff;}#sk-container-id-4 div.sk-parallel-item::after {content: \"\";width: 100%;border-bottom: 1px solid gray;flex-grow: 1;}#sk-container-id-4 div.sk-label:hover label.sk-toggleable__label {background-color: #d4ebff;}#sk-container-id-4 div.sk-serial::before {content: \"\";position: absolute;border-left: 1px solid gray;box-sizing: border-box;top: 0;bottom: 0;left: 50%;z-index: 0;}#sk-container-id-4 div.sk-serial {display: flex;flex-direction: column;align-items: center;background-color: white;padding-right: 0.2em;padding-left: 0.2em;position: relative;}#sk-container-id-4 div.sk-item {position: relative;z-index: 1;}#sk-container-id-4 div.sk-parallel {display: flex;align-items: stretch;justify-content: center;background-color: white;position: relative;}#sk-container-id-4 div.sk-item::before, #sk-container-id-4 div.sk-parallel-item::before {content: \"\";position: absolute;border-left: 1px solid gray;box-sizing: border-box;top: 0;bottom: 0;left: 50%;z-index: -1;}#sk-container-id-4 div.sk-parallel-item {display: flex;flex-direction: column;z-index: 1;position: relative;background-color: white;}#sk-container-id-4 div.sk-parallel-item:first-child::after {align-self: flex-end;width: 50%;}#sk-container-id-4 div.sk-parallel-item:last-child::after {align-self: flex-start;width: 50%;}#sk-container-id-4 div.sk-parallel-item:only-child::after {width: 0;}#sk-container-id-4 div.sk-dashed-wrapped {border: 1px dashed gray;margin: 0 0.4em 0.5em 0.4em;box-sizing: border-box;padding-bottom: 0.4em;background-color: white;}#sk-container-id-4 div.sk-label label {font-family: monospace;font-weight: bold;display: inline-block;line-height: 1.2em;}#sk-container-id-4 div.sk-label-container {text-align: center;}#sk-container-id-4 div.sk-container {/* jupyter's `normalize.less` sets `[hidden] { display: none; }` but bootstrap.min.css set `[hidden] { display: none !important; }` so we also need the `!important` here to be able to override the default hidden behavior on the sphinx rendered scikit-learn.org. See: https://github.com/scikit-learn/scikit-learn/issues/21755 */display: inline-block !important;position: relative;}#sk-container-id-4 div.sk-text-repr-fallback {display: none;}</style><div id=\"sk-container-id-4\" class=\"sk-top-container\"><div class=\"sk-text-repr-fallback\"><pre>GridSearchCV(cv=ShuffleSplit(n_splits=1, random_state=0, test_size=0.3, train_size=None),\n",
       "             estimator=KNeighborsClassifier(),\n",
       "             param_grid={&#x27;n_neighbors&#x27;: array([ 1,  4,  7, 10, 13, 16, 19, 22, 25, 28, 31, 34, 37, 40, 43, 46, 49,\n",
       "       52, 55, 58, 61, 64, 67, 70, 73, 76, 79, 82, 85, 88, 91, 94, 97])},\n",
       "             scoring=make_scorer(accuracy_score), verbose=1)</pre><b>In a Jupyter environment, please rerun this cell to show the HTML representation or trust the notebook. <br />On GitHub, the HTML representation is unable to render, please try loading this page with nbviewer.org.</b></div><div class=\"sk-container\" hidden><div class=\"sk-item sk-dashed-wrapped\"><div class=\"sk-label-container\"><div class=\"sk-label sk-toggleable\"><input class=\"sk-toggleable__control sk-hidden--visually\" id=\"sk-estimator-id-4\" type=\"checkbox\" ><label for=\"sk-estimator-id-4\" class=\"sk-toggleable__label sk-toggleable__label-arrow\">GridSearchCV</label><div class=\"sk-toggleable__content\"><pre>GridSearchCV(cv=ShuffleSplit(n_splits=1, random_state=0, test_size=0.3, train_size=None),\n",
       "             estimator=KNeighborsClassifier(),\n",
       "             param_grid={&#x27;n_neighbors&#x27;: array([ 1,  4,  7, 10, 13, 16, 19, 22, 25, 28, 31, 34, 37, 40, 43, 46, 49,\n",
       "       52, 55, 58, 61, 64, 67, 70, 73, 76, 79, 82, 85, 88, 91, 94, 97])},\n",
       "             scoring=make_scorer(accuracy_score), verbose=1)</pre></div></div></div><div class=\"sk-parallel\"><div class=\"sk-parallel-item\"><div class=\"sk-item\"><div class=\"sk-label-container\"><div class=\"sk-label sk-toggleable\"><input class=\"sk-toggleable__control sk-hidden--visually\" id=\"sk-estimator-id-5\" type=\"checkbox\" ><label for=\"sk-estimator-id-5\" class=\"sk-toggleable__label sk-toggleable__label-arrow\">estimator: KNeighborsClassifier</label><div class=\"sk-toggleable__content\"><pre>KNeighborsClassifier()</pre></div></div></div><div class=\"sk-serial\"><div class=\"sk-item\"><div class=\"sk-estimator sk-toggleable\"><input class=\"sk-toggleable__control sk-hidden--visually\" id=\"sk-estimator-id-6\" type=\"checkbox\" ><label for=\"sk-estimator-id-6\" class=\"sk-toggleable__label sk-toggleable__label-arrow\">KNeighborsClassifier</label><div class=\"sk-toggleable__content\"><pre>KNeighborsClassifier()</pre></div></div></div></div></div></div></div></div></div></div>"
      ],
      "text/plain": [
       "GridSearchCV(cv=ShuffleSplit(n_splits=1, random_state=0, test_size=0.3, train_size=None),\n",
       "             estimator=KNeighborsClassifier(),\n",
       "             param_grid={'n_neighbors': array([ 1,  4,  7, 10, 13, 16, 19, 22, 25, 28, 31, 34, 37, 40, 43, 46, 49,\n",
       "       52, 55, 58, 61, 64, 67, 70, 73, 76, 79, 82, 85, 88, 91, 94, 97])},\n",
       "             scoring=make_scorer(accuracy_score), verbose=1)"
      ]
     },
     "execution_count": 203,
     "metadata": {},
     "output_type": "execute_result"
    }
   ],
   "source": [
    "# Apprentissage :\n",
    "\n",
    "# Instanciation du KNeighbors Classifier :\n",
    "knn = KNeighborsClassifier()\n",
    "\n",
    "# Accuracy :\n",
    "acc_knnGS = make_scorer(accuracy_score)\n",
    "knn_model2 = GridSearchCV(knn, parameters, scoring = acc_knnGS,\n",
    "                   cv = ShuffleSplit(test_size=0.3, n_splits=1,\n",
    "                                     random_state=0), verbose=1)\n",
    "knn_model2.fit(Xtrain_Z, y_train)\n",
    "\n",
    "# Optimisation des hyperparamètres du KNeighbors Classifier :\n",
    "print(\"Les paramètres du meilleur modèle sont : \" + str(knn_model2.best_estimator_))\n",
    "print(\"Le \"  + str(knn_model2.scorer_) + \" du meilleur modèle est \" + str(knn_model2.best_score_))"
   ]
  },
  {
   "cell_type": "code",
   "execution_count": 204,
   "metadata": {},
   "outputs": [
    {
     "name": "stdout",
     "output_type": "stream",
     "text": [
      "Les paramètres du meilleur modèle sont : KNeighborsClassifier(n_neighbors=82)\n",
      "Le make_scorer(accuracy_score) du meilleur modèle est 0.9722833849737403\n"
     ]
    }
   ],
   "source": [
    "# Optimisation des hyperparamètres du KNeighbors Classifier :\n",
    "print(\"Les paramètres du meilleur modèle sont : \" + str(knn_model2.best_estimator_)) # n_neighbors = 82\n",
    "print(\"Le \"  + str(knn_model2.scorer_) + \" du meilleur modèle est \" + str(knn_model2.best_score_)) # 97%"
   ]
  },
  {
   "cell_type": "code",
   "execution_count": null,
   "metadata": {},
   "outputs": [],
   "source": [
    "# Apprentissage :\n",
    "\n",
    "# F1 score :\n",
    "f1_knnGS = make_scorer(f1_score, average='weighted')\n",
    "knn_model3 = GridSearchCV(knn, parameters, scoring = f1_knnGS,\n",
    "                   cv = ShuffleSplit(test_size=0.3, n_splits=1,\n",
    "                                     random_state=0), verbose=1)\n",
    "knn_model3.fit(Xtrain_Z, y_train)\n",
    "\n",
    "# Optimisation des hyperparamètres du KNeighbors Classifier :\n",
    "print(\"Les paramètres du meilleur modèle sont : \" + str(knn_model3.best_estimator_))\n",
    "print(\"Le \"  + str(knn_model3.scorer_) + \" du meilleur modèle est \" + str(knn_model3.best_score_))"
   ]
  },
  {
   "cell_type": "code",
   "execution_count": 205,
   "metadata": {},
   "outputs": [
    {
     "data": {
      "text/html": [
       "<div>\n",
       "<style scoped>\n",
       "    .dataframe tbody tr th:only-of-type {\n",
       "        vertical-align: middle;\n",
       "    }\n",
       "\n",
       "    .dataframe tbody tr th {\n",
       "        vertical-align: top;\n",
       "    }\n",
       "\n",
       "    .dataframe thead th {\n",
       "        text-align: right;\n",
       "    }\n",
       "</style>\n",
       "<table border=\"1\" class=\"dataframe\">\n",
       "  <thead>\n",
       "    <tr style=\"text-align: right;\">\n",
       "      <th>pred</th>\n",
       "      <th>Appartement</th>\n",
       "      <th>Dépendance</th>\n",
       "      <th>Local industriel. commercial ou assimilé</th>\n",
       "      <th>Maison</th>\n",
       "      <th>All</th>\n",
       "    </tr>\n",
       "    <tr>\n",
       "      <th>obs</th>\n",
       "      <th></th>\n",
       "      <th></th>\n",
       "      <th></th>\n",
       "      <th></th>\n",
       "      <th></th>\n",
       "    </tr>\n",
       "  </thead>\n",
       "  <tbody>\n",
       "    <tr>\n",
       "      <th>Appartement</th>\n",
       "      <td>172628</td>\n",
       "      <td>5</td>\n",
       "      <td>295</td>\n",
       "      <td>4575</td>\n",
       "      <td>177503</td>\n",
       "    </tr>\n",
       "    <tr>\n",
       "      <th>Dépendance</th>\n",
       "      <td>0</td>\n",
       "      <td>65404</td>\n",
       "      <td>27</td>\n",
       "      <td>0</td>\n",
       "      <td>65431</td>\n",
       "    </tr>\n",
       "    <tr>\n",
       "      <th>Local industriel. commercial ou assimilé</th>\n",
       "      <td>8</td>\n",
       "      <td>733</td>\n",
       "      <td>31993</td>\n",
       "      <td>0</td>\n",
       "      <td>32734</td>\n",
       "    </tr>\n",
       "    <tr>\n",
       "      <th>Maison</th>\n",
       "      <td>12118</td>\n",
       "      <td>0</td>\n",
       "      <td>294</td>\n",
       "      <td>362020</td>\n",
       "      <td>374432</td>\n",
       "    </tr>\n",
       "    <tr>\n",
       "      <th>All</th>\n",
       "      <td>184754</td>\n",
       "      <td>66142</td>\n",
       "      <td>32609</td>\n",
       "      <td>366595</td>\n",
       "      <td>650100</td>\n",
       "    </tr>\n",
       "  </tbody>\n",
       "</table>\n",
       "</div>"
      ],
      "text/plain": [
       "pred                                      Appartement  Dépendance  \\\n",
       "obs                                                                 \n",
       "Appartement                                    172628           5   \n",
       "Dépendance                                          0       65404   \n",
       "Local industriel. commercial ou assimilé            8         733   \n",
       "Maison                                          12118           0   \n",
       "All                                            184754       66142   \n",
       "\n",
       "pred                                      Local industriel. commercial ou assimilé  \\\n",
       "obs                                                                                  \n",
       "Appartement                                                                    295   \n",
       "Dépendance                                                                      27   \n",
       "Local industriel. commercial ou assimilé                                     31993   \n",
       "Maison                                                                         294   \n",
       "All                                                                          32609   \n",
       "\n",
       "pred                                      Maison     All  \n",
       "obs                                                       \n",
       "Appartement                                 4575  177503  \n",
       "Dépendance                                     0   65431  \n",
       "Local industriel. commercial ou assimilé       0   32734  \n",
       "Maison                                    362020  374432  \n",
       "All                                       366595  650100  "
      ]
     },
     "execution_count": 205,
     "metadata": {},
     "output_type": "execute_result"
    }
   ],
   "source": [
    "# Prédiction :\n",
    "y_predknnGS = knn_model2.predict(Xtest_Z)\n",
    "\n",
    "# Matrice de confusion :\n",
    "pd.crosstab(y_test,y_predknnGS, colnames=['pred'], rownames=['obs'], margins=True)"
   ]
  },
  {
   "cell_type": "code",
   "execution_count": 206,
   "metadata": {},
   "outputs": [
    {
     "name": "stdout",
     "output_type": "stream",
     "text": [
      "                                          precision    recall  f1-score   support\n",
      "\n",
      "                             Appartement       0.93      0.97      0.95    177503\n",
      "                              Dépendance       0.99      1.00      0.99     65431\n",
      "Local industriel. commercial ou assimilé       0.98      0.98      0.98     32734\n",
      "                                  Maison       0.99      0.97      0.98    374432\n",
      "\n",
      "                                accuracy                           0.97    650100\n",
      "                               macro avg       0.97      0.98      0.98    650100\n",
      "                            weighted avg       0.97      0.97      0.97    650100\n",
      "\n",
      "L'accuracy est de 0.9722273496385172\n",
      "Le f1_score est de 0.9723520849516789\n"
     ]
    }
   ],
   "source": [
    "# Évaluation :\n",
    "\n",
    "# Métriques - Rapport complet :\n",
    "from sklearn.metrics import classification_report\n",
    "report_knnGS = classification_report(y_test, y_predknnGS)\n",
    "print(report_knnGS)\n",
    "\n",
    "# Métriques individuelles :\n",
    "from sklearn.metrics import accuracy_score, mean_squared_error, precision_score, recall_score, f1_score\n",
    "# Accuracy :\n",
    "acc_knnGS = accuracy_score(y_test, y_predknnGS)\n",
    "print(\"L'accuracy est de\", acc_knnGS) # 97%\n",
    "\n",
    "# F1 score :\n",
    "f1_knnGS = f1_score(y_test,y_predknnGS,average='weighted')\n",
    "print('Le f1_score est de', f1_knnGS) # 97%"
   ]
  },
  {
   "cell_type": "markdown",
   "metadata": {},
   "source": [
    "Conclusion - Classification : Notre meilleur modèle de prédiction est le KNeighbors Classifier. Nous garderons donc les résultats de Type local de ce modèle pour prédire Valeur foncière."
   ]
  },
  {
   "cell_type": "markdown",
   "metadata": {},
   "source": [
    "# OPEN DATA"
   ]
  },
  {
   "cell_type": "markdown",
   "metadata": {},
   "source": [
    "Nous avons décidé d'ajouter le nombre d'écoles et le prix moyen au m2 à nos données de base afin de prédire Valeur foncière. En effet, dans nos analyses préalables, elles enrichissent les modèles prédictifs."
   ]
  },
  {
   "cell_type": "markdown",
   "metadata": {},
   "source": [
    "# RÉGRESSION"
   ]
  },
  {
   "cell_type": "markdown",
   "metadata": {},
   "source": [
    "On repart d'un dataset sans transformations préalables des données."
   ]
  },
  {
   "cell_type": "code",
   "execution_count": 37,
   "metadata": {},
   "outputs": [
    {
     "name": "stdout",
     "output_type": "stream",
     "text": [
      "(2166999, 5)\n",
      "Index(['Surface reelle bati', 'Nombre de lots', 'Nombre pieces principales',\n",
      "       'Type local', 'Valeur fonciere'],\n",
      "      dtype='object')\n"
     ]
    }
   ],
   "source": [
    "# Dataset avec Type local dans les variables explicatives :\n",
    "print(df_reg.shape)\n",
    "print(df_reg.columns)"
   ]
  },
  {
   "cell_type": "markdown",
   "metadata": {},
   "source": [
    "On agrège notre dataset avec les open data."
   ]
  },
  {
   "cell_type": "code",
   "execution_count": null,
   "metadata": {},
   "outputs": [],
   "source": [
    "# Agrégation des open data au dataset des variables sélectionnées :\n",
    "df_open = pd.merge(df_reg, commune, left_on='Commune', right_on='nom_commune_postal')\n",
    "print(df_open.columns)\n",
    "df_open = pd.merge(df_open, prix_m2, left_on='code_commune_INSEE', right_on='INSEE_COM')\n",
    "print(df_open.columns)\n",
    "df_open = pd.merge(df_open, niv_vie, left_on='code_commune_INSEE', right_on='Code Commune')"
   ]
  },
  {
   "cell_type": "code",
   "execution_count": null,
   "metadata": {},
   "outputs": [],
   "source": [
    "# Drop des outliers :\n",
    "print(df_test.shape)\n",
    "top_10_feature_indices.append(\"Valeur fonciere\")\n",
    "for col in top_10_feature_indices:\n",
    "    Q1 = df_test[col].quantile(0.25)\n",
    "    Q3 = df_test[col].quantile(0.75)\n",
    "    IQR = Q3 - Q1\n",
    "    lower_bound = Q1 - 1.5 * IQR\n",
    "    upper_bound = Q3 + 1.5 * IQR\n",
    "    df_boop = df_test[(df_test[col] >= lower_bound) & (df_test[col] <= upper_bound)]\n",
    "print(df_boop.shape)"
   ]
  },
  {
   "cell_type": "markdown",
   "metadata": {},
   "source": [
    "# Échantillons d'apprentissage vs. test"
   ]
  },
  {
   "cell_type": "markdown",
   "metadata": {},
   "source": [
    "Nous effectuons notre split train-test avant de lancer notre modèle prédictif. Pour cela, nous définissons d'abord nos variables explicatives (Surface réelle bâti, Nombre de lots, Nombre de pièces principales, Type local, open data) et notre variable cible (Valeur foncière)."
   ]
  },
  {
   "cell_type": "code",
   "execution_count": 38,
   "metadata": {},
   "outputs": [],
   "source": [
    "# Variables explicatives :\n",
    "XR = df_reg[['Surface reelle bati', 'Nombre de lots', 'Nombre pieces principales', 'Type local']]\n",
    "\n",
    "# Variable cible :\n",
    "yR = df_reg['Valeur fonciere']"
   ]
  },
  {
   "cell_type": "code",
   "execution_count": 39,
   "metadata": {},
   "outputs": [],
   "source": [
    "df_citron = df_reg"
   ]
  },
  {
   "cell_type": "code",
   "execution_count": null,
   "metadata": {},
   "outputs": [],
   "source": [
    "# Recodage de Type local :\n",
    "\n",
    "# Importation des librairies nécessaire :\n",
    "from sklearn.preprocessing import LabelEncoder\n",
    "\n",
    "df_citron['Type local'] = LabelEncoder().fit_transform(df_reg['Type local'])\n",
    "print(df_citron)"
   ]
  },
  {
   "cell_type": "code",
   "execution_count": 40,
   "metadata": {},
   "outputs": [],
   "source": [
    "# Split train-test :\n",
    "from sklearn.model_selection import train_test_split\n",
    "# 70% des données pour l’apprentissage\n",
    "# 30% des données pour l'échantillon test\n",
    "XR_train, XR_test, yR_train, yR_test = train_test_split(XR, yR, test_size = 0.3, random_state = 0)"
   ]
  },
  {
   "cell_type": "markdown",
   "metadata": {},
   "source": [
    "# Transformation des données"
   ]
  },
  {
   "cell_type": "markdown",
   "metadata": {},
   "source": [
    "Nous pouvons de nouveau procéder aux transformations des données.\n",
    "\n",
    "Nous inspectons d'abord les valeurs manquantes."
   ]
  },
  {
   "cell_type": "code",
   "execution_count": 41,
   "metadata": {},
   "outputs": [
    {
     "name": "stdout",
     "output_type": "stream",
     "text": [
      "Surface reelle bati          1415\n",
      "Nombre de lots                  0\n",
      "Nombre pieces principales    1415\n",
      "Type local                      0\n",
      "dtype: int64\n",
      "0\n"
     ]
    }
   ],
   "source": [
    "# Valeurs manquantes ?\n",
    "print(XR.isna().sum())\n",
    "\n",
    "print(yR.isna().sum())"
   ]
  },
  {
   "cell_type": "markdown",
   "metadata": {},
   "source": [
    "Nous remplaçons les valeurs manquantes des variables explicatives en apprentissage et en test par leurs moyennes respectives."
   ]
  },
  {
   "cell_type": "code",
   "execution_count": 45,
   "metadata": {},
   "outputs": [],
   "source": [
    "# Remplacement des NaN :\n",
    "\n",
    "# Échantillon d'apprentissage :\n",
    "for col in XR_train :\n",
    "    XR_train[col] = XR_train[col].fillna(XR_train[col].mean())\n",
    "\n",
    "# Vérification du remplacement des NaN :\n",
    "print(XR_train.isna().sum()) # 0 NaN\n",
    "\n",
    "# Échantillon test :\n",
    "for col in XR_test :\n",
    "    XR_test[col] = XR_test[col].fillna(XR_test[col].mean())\n",
    "\n",
    "# Vérification du remplacement des NaN :\n",
    "print(XR_test.isna().sum()) # 0 NaN"
   ]
  },
  {
   "cell_type": "code",
   "execution_count": null,
   "metadata": {},
   "outputs": [],
   "source": [
    "# Standardisation des variables :\n",
    "from sklearn.preprocessing import StandardScaler\n",
    "\n",
    "# Échantillon d'apprentissage :\n",
    "XRtrain_Z = XR_train\n",
    "scaler = StandardScaler()\n",
    "XRtrain_Z = scaler.fit_transform(XRtrain_Z)\n",
    "print(XRtrain_Z) # array\n",
    "\n",
    "# Échantillon test :\n",
    "XRtest_Z = XR_test\n",
    "XRtest_Z = scaler.fit_transform(XRtest_Z)\n",
    "print(XRtest_Z) # array"
   ]
  },
  {
   "cell_type": "code",
   "execution_count": null,
   "metadata": {},
   "outputs": [],
   "source": [
    "# Transformation des ndarray en dataframe :\n",
    "\n",
    "# Train :\n",
    "XRtrain_Z = pd.DataFrame(data=XRtrain_Z, columns=XR.columns)\n",
    "print(XRtrain_Z)\n",
    "\n",
    "# Test :\n",
    "XRtest_Z = pd.DataFrame(data=XRtest_Z, columns=XR.columns)\n",
    "print(XRtest_Z)"
   ]
  },
  {
   "cell_type": "markdown",
   "metadata": {},
   "source": [
    "# Régression linéaire"
   ]
  },
  {
   "cell_type": "code",
   "execution_count": null,
   "metadata": {},
   "outputs": [],
   "source": [
    "# Importation des librairies nécessaires :\n",
    "from sklearn.linear_model import LinearRegression\n",
    "from sklearn.metrics import mean_squared_error\n",
    "\n",
    "# Régression linéaire :\n",
    "lr = LinearRegression()\n",
    "lr.fit(XRtrain_Z, yR_train)\n",
    "\n",
    "# Prédiction :\n",
    "y_predlr = lr.predict(XRtest_Z)\n",
    "\n",
    "# Évaluation - Racine du MSE :\n",
    "np.sqrt(mean_squared_error(yR_test,y_predlr))"
   ]
  },
  {
   "cell_type": "markdown",
   "metadata": {},
   "source": [
    "# Decision Tree Regressor"
   ]
  },
  {
   "cell_type": "code",
   "execution_count": null,
   "metadata": {},
   "outputs": [],
   "source": [
    "# Importation des librairies nécessaires :\n",
    "from sklearn.tree import DecisionTreeRegressor\n",
    "from sklearn.metrics import mean_squared_error\n",
    "\n",
    "# Decision Tree Regressor :\n",
    "dtr = DecisionTreeRegressor()\n",
    "dtr.fit(XRtrain_Z, yR_train)\n",
    "\n",
    "# Prédiction :\n",
    "y_pred_dtr = dtr.predict(XRtest_Z)\n",
    "\n",
    "# Évaluation - Racine du MSE :\n",
    "np.sqrt(mean_squared_error(yR_test,y_pred_dtr))"
   ]
  },
  {
   "cell_type": "markdown",
   "metadata": {},
   "source": [
    "# Random Forest Regressor"
   ]
  },
  {
   "cell_type": "code",
   "execution_count": null,
   "metadata": {},
   "outputs": [],
   "source": [
    "# Importation des librairies nécessaires :\n",
    "from sklearn.ensemble import RandomForestRegressor\n",
    "from sklearn.metrics import mean_squared_error\n",
    "\n",
    "# Random Forest Regressor :\n",
    "rfr = RandomForestRegressor(n_estimators=30,max_depth=20)\n",
    "rfr.fit(XRtrain_Z, yR_train)\n",
    "\n",
    "# Prédiction :\n",
    "y_predrfr = rfr.predict(XRtest_Z)\n",
    "\n",
    "# Évaluation - Racine du MSE :\n",
    "np.sqrt(mean_squared_error(yR_test, y_predrfr))"
   ]
  },
  {
   "cell_type": "markdown",
   "metadata": {},
   "source": [
    "Le random forest était beaucoup trop long à lancer. Nous nous sommes donc contentés du Decision Tree Regressor, qui était notre meilleur modèle de prédiction, afin de prédire les valeurs de Valeur foncière."
   ]
  }
 ],
 "metadata": {
  "kernelspec": {
   "display_name": "Python 3",
   "language": "python",
   "name": "python3"
  },
  "language_info": {
   "codemirror_mode": {
    "name": "ipython",
    "version": 3
   },
   "file_extension": ".py",
   "mimetype": "text/x-python",
   "name": "python",
   "nbconvert_exporter": "python",
   "pygments_lexer": "ipython3",
   "version": "3.12.0"
  },
  "orig_nbformat": 4
 },
 "nbformat": 4,
 "nbformat_minor": 2
}
